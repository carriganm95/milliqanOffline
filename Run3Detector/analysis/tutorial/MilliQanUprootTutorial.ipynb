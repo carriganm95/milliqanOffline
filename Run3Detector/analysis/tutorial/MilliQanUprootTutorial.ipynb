{
 "cells": [
  {
   "cell_type": "markdown",
   "metadata": {},
   "source": [
    "<h1 align=center> MilliQan Uproot Tutorial</h1>\n",
    "\n",
    "This jupyter notebook was developed for the 6th MilliQan conference as a tutorial for using the MilliQan data and analysis framework. The framework has been built using the uproot package. Uproot allows root files to be read in as either awkward arrays, numpy arrays, or pandas dataframes. This facilitates faster columnar analysis on the data. \n",
    "\n",
    "For more information on uproot see the documentation and a tutorials given by J Pivarski and Mason Proffitt below.\n",
    "\n",
    "[1] https://uproot.readthedocs.io/en/latest/ <br>\n",
    "[2] https://github.com/jpivarski-talks/2021-06-14-uproot-awkward-columnar-hats/blob/main/2-uproot.ipynb <br>\n",
    "[3] https://masonproffitt.github.io/uproot-tutorial/aio/index.html \n",
    "\n",
    "For more information on awkward arrays see the awkward array documentation and tutorial by J Pivarski below.\n",
    "\n",
    "[1] https://awkward-array.org/doc/main/user-guide/index.html <br>\n",
    "[2] https://github.com/jpivarski-talks/2021-06-14-uproot-awkward-columnar-hats/blob/main/3-awkward-array.ipynb\n"
   ]
  },
  {
   "cell_type": "markdown",
   "metadata": {},
   "source": [
    "## Useful Documents\n",
    "\n",
    "### Channel Mapping\n",
    "<img src=\"channelMapping.png\" alt=\"Alternative text\" />\n"
   ]
  },
  {
   "cell_type": "markdown",
   "metadata": {},
   "source": [
    "## Importing Packages\n",
    "\n",
    "The first step will be to import all packages we need. The root and uproot packages are both necessary for our purposes.\n",
    "\n",
    "To load our files with uproot we also need at least one of awkward, numpy, or pandas. We can easily switch between these different formats and use different packages for different tasks. \n",
    "\n",
    "We will also import the hist and matplotlib.pyplot packages to make histograms.\n",
    "\n",
    "Finally we will use the array package to allow us to fill root histograms."
   ]
  },
  {
   "cell_type": "code",
   "execution_count": 2,
   "metadata": {},
   "outputs": [
    {
     "name": "stdout",
     "output_type": "stream",
     "text": [
      "Welcome to JupyROOT 6.28/04\n"
     ]
    }
   ],
   "source": [
    "import ROOT as r\n",
    "import uproot\n",
    "\n",
    "import hist\n",
    "import matplotlib.pyplot as plt\n",
    "\n",
    "import awkward as ak\n",
    "import numpy as np\n",
    "import pandas as pd\n",
    "\n",
    "import array as arr"
   ]
  },
  {
   "cell_type": "markdown",
   "metadata": {},
   "source": [
    "## Opening File with Uproot\n",
    "\n",
    "First we need to download our root file, we will use run 1190 which contains beam-on data. Then we can open our root file and load in the correct tree the same way we do with traditional root. "
   ]
  },
  {
   "cell_type": "code",
   "execution_count": 8,
   "metadata": {},
   "outputs": [
    {
     "name": "stdout",
     "output_type": "stream",
     "text": [
      "We already have our file!\n"
     ]
    }
   ],
   "source": [
    "import os\n",
    "\n",
    "if not os.path.isfile('MilliQan_Run1190_v34.root'):\n",
    "    print(\"Downloading our example file...\")\n",
    "    filePath = 'https://cernbox.cern.ch/s/7aVy5emV9tivPrl/download'\n",
    "    os.system(\"wget -O $PWD/MilliQan_Run1190_v34.root {0} \".format(filePath))\n",
    "else:\n",
    "    print(\"We already have our file!\")\n"
   ]
  },
  {
   "cell_type": "code",
   "execution_count": 9,
   "metadata": {},
   "outputs": [
    {
     "name": "stdout",
     "output_type": "stream",
     "text": [
      "name                 | typename                 | interpretation                \n",
      "---------------------+--------------------------+-------------------------------\n",
      "event                | int32_t                  | AsDtype('>i4')\n",
      "runNumber            | int64_t                  | AsDtype('>i8')\n",
      "fileNumber           | int64_t                  | AsDtype('>i8')\n",
      "boardsMatched        | bool                     | AsDtype('bool')\n",
      "DAQEventNumber       | int32_t                  | AsDtype('>i4')\n",
      "daqFileOpen          | uint64_t                 | AsDtype('>u8')\n",
      "daqFileClose         | uint64_t                 | AsDtype('>u8')\n",
      "totalFillLumi        | float                    | AsDtype('>f4')\n",
      "fillId               | int32_t                  | AsDtype('>i4')\n",
      "beamType             | TString                  | AsStrings()\n",
      "beamEnergy           | float                    | AsDtype('>f4')\n",
      "betaStar             | float                    | AsDtype('>f4')\n",
      "beamOn               | bool                     | AsDtype('bool')\n",
      "fillStart            | uint64_t                 | AsDtype('>u8')\n",
      "fillEnd              | uint64_t                 | AsDtype('>u8')\n",
      "triggerThreshold     | std::vector<float>       | AsJagged(AsDtype('>f4'), he...\n",
      "triggerEnable        | std::vector<bool>        | AsJagged(AsDtype('bool'), h...\n",
      "triggerMajority      | std::vector<int32_t>     | AsJagged(AsDtype('>i4'), he...\n",
      "triggerLogic         | std::vector<int32_t>     | AsJagged(AsDtype('>i4'), he...\n",
      "dynamicPedestal      | std::vector<float>       | AsJagged(AsDtype('>f4'), he...\n",
      "sidebandMean         | std::vector<float>       | AsJagged(AsDtype('>f4'), he...\n",
      "sidebandRMS          | std::vector<float>       | AsJagged(AsDtype('>f4'), he...\n",
      "maxThreeConsec       | std::vector<float>       | AsJagged(AsDtype('>f4'), he...\n",
      "chan                 | std::vector<int32_t>     | AsJagged(AsDtype('>i4'), he...\n",
      "chanWithinBoard      | std::vector<int32_t>     | AsJagged(AsDtype('>i4'), he...\n",
      "row                  | std::vector<int32_t>     | AsJagged(AsDtype('>i4'), he...\n",
      "column               | std::vector<int32_t>     | AsJagged(AsDtype('>i4'), he...\n",
      "layer                | std::vector<int32_t>     | AsJagged(AsDtype('>i4'), he...\n",
      "type                 | std::vector<int32_t>     | AsJagged(AsDtype('>i4'), he...\n",
      "board                | std::vector<int32_t>     | AsJagged(AsDtype('>i4'), he...\n",
      "height               | std::vector<float>       | AsJagged(AsDtype('>f4'), he...\n",
      "area                 | std::vector<float>       | AsJagged(AsDtype('>f4'), he...\n",
      "pickupFlag           | std::vector<bool>        | AsJagged(AsDtype('bool'), h...\n",
      "pickupFlagTight      | std::vector<bool>        | AsJagged(AsDtype('bool'), h...\n",
      "nPE                  | std::vector<float>       | AsJagged(AsDtype('>f4'), he...\n",
      "riseSamples          | std::vector<int32_t>     | AsJagged(AsDtype('>i4'), he...\n",
      "fallSamples          | std::vector<int32_t>     | AsJagged(AsDtype('>i4'), he...\n",
      "ipulse               | std::vector<int32_t>     | AsJagged(AsDtype('>i4'), he...\n",
      "npulses              | std::vector<int32_t>     | AsJagged(AsDtype('>i4'), he...\n",
      "time                 | std::vector<float>       | AsJagged(AsDtype('>f4'), he...\n",
      "timeFit              | std::vector<float>       | AsJagged(AsDtype('>f4'), he...\n",
      "time_module_calib... | std::vector<float>       | AsJagged(AsDtype('>f4'), he...\n",
      "timeFit_module_ca... | std::vector<float>       | AsJagged(AsDtype('>f4'), he...\n",
      "duration             | std::vector<float>       | AsJagged(AsDtype('>f4'), he...\n",
      "delay                | std::vector<float>       | AsJagged(AsDtype('>f4'), he...\n",
      "max                  | std::vector<float>       | AsJagged(AsDtype('>f4'), he...\n",
      "present              | std::vector<int64_t>     | AsJagged(AsDtype('>i8'), he...\n",
      "event_trigger_tim... | std::vector<int64_t>     | AsJagged(AsDtype('>i8'), he...\n",
      "event_time           | std::vector<int64_t>     | AsJagged(AsDtype('>i8'), he...\n",
      "event_time_fromTDC   | double                   | AsDtype('>f8')\n",
      "v_groupTDC_g0        | std::vector<int64_t>     | AsJagged(AsDtype('>i8'), he...\n",
      "v_groupTDC_g1        | std::vector<int64_t>     | AsJagged(AsDtype('>i8'), he...\n",
      "v_groupTDC_g2        | std::vector<int64_t>     | AsJagged(AsDtype('>i8'), he...\n",
      "v_groupTDC_g3        | std::vector<int64_t>     | AsJagged(AsDtype('>i8'), he...\n",
      "v_groupTDC_g4        | std::vector<int64_t>     | AsJagged(AsDtype('>i8'), he...\n",
      "v_groupTDC_g5        | std::vector<int64_t>     | AsJagged(AsDtype('>i8'), he...\n",
      "v_groupTDC_g6        | std::vector<int64_t>     | AsJagged(AsDtype('>i8'), he...\n",
      "v_groupTDC_g7        | std::vector<int64_t>     | AsJagged(AsDtype('>i8'), he...\n",
      "tClockCycles         | uint64_t                 | AsDtype('>u8')\n",
      "tTime                | float                    | AsDtype('>f4')\n",
      "tStartTime           | float                    | AsDtype('>f4')\n",
      "tTrigger             | float                    | AsDtype('>f4')\n",
      "tTimeDiff            | float                    | AsDtype('>f4')\n",
      "tMatchingTimeCut     | float                    | AsDtype('>f4')\n",
      "tEvtNum              | int32_t                  | AsDtype('>i4')\n",
      "tRunNum              | int32_t                  | AsDtype('>i4')\n",
      "tTBEvent             | int32_t                  | AsDtype('>i4')\n",
      "totalFileLumi        | float                    | AsDtype('>f4')\n"
     ]
    }
   ],
   "source": [
    "upfile = uproot.open(\"MilliQan_Run1190_v34.root\") #load the root file\n",
    "uptree = upfile[\"t\"] #open the tree \"t\"\n",
    "uptree.show() #print out all branches"
   ]
  },
  {
   "cell_type": "markdown",
   "metadata": {},
   "source": [
    "Note that in the above print out showing our root file there is also a list of types. There are some types that are vectors and others that are not. For most python dataframes this would cause an issue (numpy, pandas), however the awkward array package was designed to solve this issue. In the same event we can have arrays of different sizes saved. "
   ]
  },
  {
   "cell_type": "code",
   "execution_count": 10,
   "metadata": {},
   "outputs": [],
   "source": [
    "#Optionally we can load in the tree at the same time we load the file by appending \":\\<treename>\\\" to the end of the file\n",
    "\n",
    "uptree = uproot.open(\"MilliQan_Run1190_v34.root:t\")"
   ]
  },
  {
   "cell_type": "markdown",
   "metadata": {},
   "source": [
    "There are some other useful functions for looking at the contents of our tree. "
   ]
  },
  {
   "cell_type": "code",
   "execution_count": 11,
   "metadata": {},
   "outputs": [
    {
     "data": {
      "text/plain": [
       "['event',\n",
       " 'runNumber',\n",
       " 'fileNumber',\n",
       " 'boardsMatched',\n",
       " 'DAQEventNumber',\n",
       " 'daqFileOpen',\n",
       " 'daqFileClose',\n",
       " 'totalFillLumi',\n",
       " 'fillId',\n",
       " 'beamType',\n",
       " 'beamEnergy',\n",
       " 'betaStar',\n",
       " 'beamOn',\n",
       " 'fillStart',\n",
       " 'fillEnd',\n",
       " 'triggerThreshold',\n",
       " 'triggerEnable',\n",
       " 'triggerMajority',\n",
       " 'triggerLogic',\n",
       " 'dynamicPedestal',\n",
       " 'sidebandMean',\n",
       " 'sidebandRMS',\n",
       " 'maxThreeConsec',\n",
       " 'chan',\n",
       " 'chanWithinBoard',\n",
       " 'row',\n",
       " 'column',\n",
       " 'layer',\n",
       " 'type',\n",
       " 'board',\n",
       " 'height',\n",
       " 'area',\n",
       " 'pickupFlag',\n",
       " 'pickupFlagTight',\n",
       " 'nPE',\n",
       " 'riseSamples',\n",
       " 'fallSamples',\n",
       " 'ipulse',\n",
       " 'npulses',\n",
       " 'time',\n",
       " 'timeFit',\n",
       " 'time_module_calibrated',\n",
       " 'timeFit_module_calibrated',\n",
       " 'duration',\n",
       " 'delay',\n",
       " 'max',\n",
       " 'present',\n",
       " 'event_trigger_time_tag',\n",
       " 'event_time',\n",
       " 'event_time_fromTDC',\n",
       " 'v_groupTDC_g0',\n",
       " 'v_groupTDC_g1',\n",
       " 'v_groupTDC_g2',\n",
       " 'v_groupTDC_g3',\n",
       " 'v_groupTDC_g4',\n",
       " 'v_groupTDC_g5',\n",
       " 'v_groupTDC_g6',\n",
       " 'v_groupTDC_g7',\n",
       " 'tClockCycles',\n",
       " 'tTime',\n",
       " 'tStartTime',\n",
       " 'tTrigger',\n",
       " 'tTimeDiff',\n",
       " 'tMatchingTimeCut',\n",
       " 'tEvtNum',\n",
       " 'tRunNum',\n",
       " 'tTBEvent',\n",
       " 'totalFileLumi']"
      ]
     },
     "execution_count": 11,
     "metadata": {},
     "output_type": "execute_result"
    }
   ],
   "source": [
    "uptree.keys() #print the branches"
   ]
  },
  {
   "cell_type": "code",
   "execution_count": 12,
   "metadata": {},
   "outputs": [
    {
     "data": {
      "text/plain": [
       "{'event': 'int32_t',\n",
       " 'runNumber': 'int64_t',\n",
       " 'fileNumber': 'int64_t',\n",
       " 'boardsMatched': 'bool',\n",
       " 'DAQEventNumber': 'int32_t',\n",
       " 'daqFileOpen': 'uint64_t',\n",
       " 'daqFileClose': 'uint64_t',\n",
       " 'totalFillLumi': 'float',\n",
       " 'fillId': 'int32_t',\n",
       " 'beamType': 'TString',\n",
       " 'beamEnergy': 'float',\n",
       " 'betaStar': 'float',\n",
       " 'beamOn': 'bool',\n",
       " 'fillStart': 'uint64_t',\n",
       " 'fillEnd': 'uint64_t',\n",
       " 'triggerThreshold': 'std::vector<float>',\n",
       " 'triggerEnable': 'std::vector<bool>',\n",
       " 'triggerMajority': 'std::vector<int32_t>',\n",
       " 'triggerLogic': 'std::vector<int32_t>',\n",
       " 'dynamicPedestal': 'std::vector<float>',\n",
       " 'sidebandMean': 'std::vector<float>',\n",
       " 'sidebandRMS': 'std::vector<float>',\n",
       " 'maxThreeConsec': 'std::vector<float>',\n",
       " 'chan': 'std::vector<int32_t>',\n",
       " 'chanWithinBoard': 'std::vector<int32_t>',\n",
       " 'row': 'std::vector<int32_t>',\n",
       " 'column': 'std::vector<int32_t>',\n",
       " 'layer': 'std::vector<int32_t>',\n",
       " 'type': 'std::vector<int32_t>',\n",
       " 'board': 'std::vector<int32_t>',\n",
       " 'height': 'std::vector<float>',\n",
       " 'area': 'std::vector<float>',\n",
       " 'pickupFlag': 'std::vector<bool>',\n",
       " 'pickupFlagTight': 'std::vector<bool>',\n",
       " 'nPE': 'std::vector<float>',\n",
       " 'riseSamples': 'std::vector<int32_t>',\n",
       " 'fallSamples': 'std::vector<int32_t>',\n",
       " 'ipulse': 'std::vector<int32_t>',\n",
       " 'npulses': 'std::vector<int32_t>',\n",
       " 'time': 'std::vector<float>',\n",
       " 'timeFit': 'std::vector<float>',\n",
       " 'time_module_calibrated': 'std::vector<float>',\n",
       " 'timeFit_module_calibrated': 'std::vector<float>',\n",
       " 'duration': 'std::vector<float>',\n",
       " 'delay': 'std::vector<float>',\n",
       " 'max': 'std::vector<float>',\n",
       " 'present': 'std::vector<int64_t>',\n",
       " 'event_trigger_time_tag': 'std::vector<int64_t>',\n",
       " 'event_time': 'std::vector<int64_t>',\n",
       " 'event_time_fromTDC': 'double',\n",
       " 'v_groupTDC_g0': 'std::vector<int64_t>',\n",
       " 'v_groupTDC_g1': 'std::vector<int64_t>',\n",
       " 'v_groupTDC_g2': 'std::vector<int64_t>',\n",
       " 'v_groupTDC_g3': 'std::vector<int64_t>',\n",
       " 'v_groupTDC_g4': 'std::vector<int64_t>',\n",
       " 'v_groupTDC_g5': 'std::vector<int64_t>',\n",
       " 'v_groupTDC_g6': 'std::vector<int64_t>',\n",
       " 'v_groupTDC_g7': 'std::vector<int64_t>',\n",
       " 'tClockCycles': 'uint64_t',\n",
       " 'tTime': 'float',\n",
       " 'tStartTime': 'float',\n",
       " 'tTrigger': 'float',\n",
       " 'tTimeDiff': 'float',\n",
       " 'tMatchingTimeCut': 'float',\n",
       " 'tEvtNum': 'int32_t',\n",
       " 'tRunNum': 'int32_t',\n",
       " 'tTBEvent': 'int32_t',\n",
       " 'totalFileLumi': 'float'}"
      ]
     },
     "execution_count": 12,
     "metadata": {},
     "output_type": "execute_result"
    }
   ],
   "source": [
    "uptree.typenames() #print branches and type"
   ]
  },
  {
   "cell_type": "markdown",
   "metadata": {},
   "source": [
    "### Selecting Branches\n",
    "\n",
    "We can also select specific branches by using the arrays method of uproot. Note that in the below example we can also create a cut, set the library to use, and determine how many events to load.\n",
    "\n",
    "library = data format to load branches into. Options are awkward (ak, default), pandas (pd), and numpy (np). <br>\n",
    "cut = string making a cut on the data, cut is applied at this time <br>\n",
    "entry_stop = sets the number of events to load <br>"
   ]
  },
  {
   "cell_type": "code",
   "execution_count": 13,
   "metadata": {},
   "outputs": [
    {
     "data": {
      "text/plain": [
       "{'height': array([array([  31.783669,   39.405895,   13.095359,   26.717552,  140.2456  ,\n",
       "                 44.905266,  271.96484 ,   68.273026,   50.518803,   11.808123,\n",
       "                 11.194355,   12.174236, 1271.4152  , 1271.679   ,   92.209274,\n",
       "                 13.671067], dtype=float32)                                    ],\n",
       "       dtype=object),\n",
       " 'area': array([array([1.2054480e+03, 1.1246801e+03, 1.8389778e+02, 9.8011853e+02,\n",
       "               6.1905723e+03, 1.5279357e+03, 9.0815225e+03, 1.5125280e+03,\n",
       "               6.7102985e+02, 5.8576851e+01, 1.4745975e+02, 8.2188019e+01,\n",
       "               5.4123918e+04, 9.0477211e+04, 4.4827510e+03, 6.6807976e+01],\n",
       "              dtype=float32)                                               ],\n",
       "       dtype=object)}"
      ]
     },
     "execution_count": 13,
     "metadata": {},
     "output_type": "execute_result"
    }
   ],
   "source": [
    "#using numpy\n",
    "\n",
    "branches = uptree.arrays([\"height\", \"area\"], library=\"np\", entry_stop=1) #note that making a cut here cannot be done\n",
    "branches #print numpy array"
   ]
  },
  {
   "cell_type": "code",
   "execution_count": 14,
   "metadata": {},
   "outputs": [
    {
     "data": {
      "text/html": [
       "<div>\n",
       "<style scoped>\n",
       "    .dataframe tbody tr th:only-of-type {\n",
       "        vertical-align: middle;\n",
       "    }\n",
       "\n",
       "    .dataframe tbody tr th {\n",
       "        vertical-align: top;\n",
       "    }\n",
       "\n",
       "    .dataframe thead th {\n",
       "        text-align: right;\n",
       "    }\n",
       "</style>\n",
       "<table border=\"1\" class=\"dataframe\">\n",
       "  <thead>\n",
       "    <tr style=\"text-align: right;\">\n",
       "      <th></th>\n",
       "      <th>height</th>\n",
       "      <th>area</th>\n",
       "    </tr>\n",
       "  </thead>\n",
       "  <tbody>\n",
       "    <tr>\n",
       "      <th>0</th>\n",
       "      <td>[31.783668518066406, 39.4058952331543, 13.0953...</td>\n",
       "      <td>[1205.447998046875, 1124.6800537109375, 183.89...</td>\n",
       "    </tr>\n",
       "    <tr>\n",
       "      <th>1</th>\n",
       "      <td>[1250.4808349609375, 46.19087600708008, 68.531...</td>\n",
       "      <td>[70824.625, 1055.309814453125, 1792.3759765625...</td>\n",
       "    </tr>\n",
       "    <tr>\n",
       "      <th>2</th>\n",
       "      <td>[18.267715454101562, 25.468421936035156]</td>\n",
       "      <td>[50.21216583251953, 68.24801635742188]</td>\n",
       "    </tr>\n",
       "    <tr>\n",
       "      <th>3</th>\n",
       "      <td>[41.91587448120117, 58.44866943359375, 38.3878...</td>\n",
       "      <td>[1238.1187744140625, 1987.6187744140625, 1182....</td>\n",
       "    </tr>\n",
       "    <tr>\n",
       "      <th>4</th>\n",
       "      <td>[1248.293212890625, 19.603918075561523, 349.06...</td>\n",
       "      <td>[82731.6875, 255.3837432861328, 12854.43359375...</td>\n",
       "    </tr>\n",
       "    <tr>\n",
       "      <th>5</th>\n",
       "      <td>[594.494140625, 90.06787109375, 1249.473266601...</td>\n",
       "      <td>[25615.44140625, 3769.640380859375, 80643.2890...</td>\n",
       "    </tr>\n",
       "    <tr>\n",
       "      <th>6</th>\n",
       "      <td>[67.95349884033203, 183.73922729492188, 72.034...</td>\n",
       "      <td>[1010.6024780273438, 9996.771484375, 2006.5627...</td>\n",
       "    </tr>\n",
       "    <tr>\n",
       "      <th>7</th>\n",
       "      <td>[35.43406677246094, 342.0281066894531, 1072.92...</td>\n",
       "      <td>[1058.7940673828125, 9912.9697265625, 42932.64...</td>\n",
       "    </tr>\n",
       "    <tr>\n",
       "      <th>8</th>\n",
       "      <td>[430.8191833496094, 16.063304901123047, 797.25...</td>\n",
       "      <td>[16883.04296875, 128.42327880859375, 45818.957...</td>\n",
       "    </tr>\n",
       "    <tr>\n",
       "      <th>9</th>\n",
       "      <td>[15.313374519348145]</td>\n",
       "      <td>[44.623260498046875]</td>\n",
       "    </tr>\n",
       "  </tbody>\n",
       "</table>\n",
       "</div>"
      ],
      "text/plain": [
       "                                              height  \\\n",
       "0  [31.783668518066406, 39.4058952331543, 13.0953...   \n",
       "1  [1250.4808349609375, 46.19087600708008, 68.531...   \n",
       "2           [18.267715454101562, 25.468421936035156]   \n",
       "3  [41.91587448120117, 58.44866943359375, 38.3878...   \n",
       "4  [1248.293212890625, 19.603918075561523, 349.06...   \n",
       "5  [594.494140625, 90.06787109375, 1249.473266601...   \n",
       "6  [67.95349884033203, 183.73922729492188, 72.034...   \n",
       "7  [35.43406677246094, 342.0281066894531, 1072.92...   \n",
       "8  [430.8191833496094, 16.063304901123047, 797.25...   \n",
       "9                               [15.313374519348145]   \n",
       "\n",
       "                                                area  \n",
       "0  [1205.447998046875, 1124.6800537109375, 183.89...  \n",
       "1  [70824.625, 1055.309814453125, 1792.3759765625...  \n",
       "2             [50.21216583251953, 68.24801635742188]  \n",
       "3  [1238.1187744140625, 1987.6187744140625, 1182....  \n",
       "4  [82731.6875, 255.3837432861328, 12854.43359375...  \n",
       "5  [25615.44140625, 3769.640380859375, 80643.2890...  \n",
       "6  [1010.6024780273438, 9996.771484375, 2006.5627...  \n",
       "7  [1058.7940673828125, 9912.9697265625, 42932.64...  \n",
       "8  [16883.04296875, 128.42327880859375, 45818.957...  \n",
       "9                               [44.623260498046875]  "
      ]
     },
     "execution_count": 14,
     "metadata": {},
     "output_type": "execute_result"
    }
   ],
   "source": [
    "#using pandas\n",
    "\n",
    "branches = uptree.arrays([\"height\", \"area\"], library=\"pd\", entry_stop=10) #note that making a cut here cannot be done\n",
    "branches #print pandas dataframe"
   ]
  },
  {
   "cell_type": "code",
   "execution_count": 15,
   "metadata": {},
   "outputs": [
    {
     "data": {
      "text/html": [
       "<pre>[{height: [1.27e+03, 1.27e+03], area: [5.41e+04, ...]},\n",
       " {height: [1.25e+03, 804, ..., 1.25e+03], area: [...]},\n",
       " {height: [], area: []},\n",
       " {height: [], area: []},\n",
       " {height: [1.25e+03, 533, 1.25e+03], area: [8.27e+04, ...]},\n",
       " {height: [594, 1.25e+03], area: [2.56e+04, ...]},\n",
       " {height: [704, 1.25e+03, ..., 1.26e+03], area: [...]},\n",
       " {height: [1.07e+03], area: [4.29e+04]},\n",
       " {height: [797], area: [4.58e+04]},\n",
       " {height: [], area: []}]\n",
       "------------------------------------------------------------\n",
       "type: 10 * {\n",
       "    height: var * float32,\n",
       "    area: var * float32\n",
       "}</pre>"
      ],
      "text/plain": [
       "<Array [{height: [...], area: [...]}, ...] type='10 * {height: var * float3...'>"
      ]
     },
     "execution_count": 15,
     "metadata": {},
     "output_type": "execute_result"
    }
   ],
   "source": [
    "#using awkward\n",
    "\n",
    "branches = uptree.arrays([\"height\", \"area\"], cut=\"height >= 500\", entry_stop=100000)\n",
    "branches[:10] #print first 10 events"
   ]
  },
  {
   "cell_type": "markdown",
   "metadata": {},
   "source": [
    "We can also make more cuts by defining a cut and then applying it to our branches. The cut will be arrays of booleans for each pulse that we can then apply to our data to \"make the cut\"."
   ]
  },
  {
   "cell_type": "code",
   "execution_count": 16,
   "metadata": {},
   "outputs": [
    {
     "data": {
      "text/html": [
       "<pre>[[True, True],\n",
       " [True, True, True, True],\n",
       " [],\n",
       " [],\n",
       " [True, True, True],\n",
       " [True, True],\n",
       " [True, True, True, True],\n",
       " [True],\n",
       " [True],\n",
       " [],\n",
       " ...,\n",
       " [True, True],\n",
       " [],\n",
       " [],\n",
       " [True, True],\n",
       " [True],\n",
       " [True, True, True, True],\n",
       " [],\n",
       " [True, True],\n",
       " [True, True, True]]\n",
       "--------------------------\n",
       "type: 100000 * var * bool</pre>"
      ],
      "text/plain": [
       "<Array [[True, True], ..., [True, True, True]] type='100000 * var * bool'>"
      ]
     },
     "execution_count": 16,
     "metadata": {},
     "output_type": "execute_result"
    }
   ],
   "source": [
    "area_cut = branches['area'] >= 500 #cut requires area >= 500 pulse by pulse\n",
    "height_cut = branches['height'] >= 700 #cut requires height >= 700 pulse by pulse\n",
    "area_cut #print the area cut"
   ]
  },
  {
   "cell_type": "code",
   "execution_count": 17,
   "metadata": {},
   "outputs": [
    {
     "data": {
      "text/html": [
       "<pre>[{height: [1.27e+03, 1.27e+03], area: [5.41e+04, ...]},\n",
       " {height: [1.25e+03, 804, ..., 1.25e+03], area: [...]},\n",
       " {height: [], area: []},\n",
       " {height: [], area: []},\n",
       " {height: [1.25e+03, 533, 1.25e+03], area: [8.27e+04, ...]},\n",
       " {height: [594, 1.25e+03], area: [2.56e+04, ...]},\n",
       " {height: [704, 1.25e+03, ..., 1.26e+03], area: [...]},\n",
       " {height: [1.07e+03], area: [4.29e+04]},\n",
       " {height: [797], area: [4.58e+04]},\n",
       " {height: [], area: []},\n",
       " ...,\n",
       " {height: [951, 1.25e+03], area: [3.03e+04, ...]},\n",
       " {height: [], area: []},\n",
       " {height: [], area: []},\n",
       " {height: [633, 1.25e+03], area: [3.16e+04, ...]},\n",
       " {height: [985], area: [3.74e+04]},\n",
       " {height: [1.07e+03, ..., 1.25e+03], area: [3.72e+04, ...]},\n",
       " {height: [], area: []},\n",
       " {height: [1.07e+03, 1.25e+03], area: [3.75e+04, ...]},\n",
       " {height: [1.15e+03, 1.07e+03, 725], area: [4.67e+04, ...]}]\n",
       "------------------------------------------------------------\n",
       "type: 100000 * {\n",
       "    height: var * float32,\n",
       "    area: var * float32\n",
       "}</pre>"
      ],
      "text/plain": [
       "<Array [{height: [...], area: [...]}, ...] type='100000 * {height: var * fl...'>"
      ]
     },
     "execution_count": 17,
     "metadata": {},
     "output_type": "execute_result"
    }
   ],
   "source": [
    "branches_cut = branches[area_cut] #here we make the cut by saving only those pulses that have a True value for the cut\n",
    "branches_cut #print"
   ]
  },
  {
   "cell_type": "markdown",
   "metadata": {},
   "source": [
    "We can make a quick plot of this data by using the hist package. First we need to define our histogram (bins, start, stop) the same as in root. Then we need to fill the histogram with a flattened awkward array."
   ]
  },
  {
   "cell_type": "code",
   "execution_count": 18,
   "metadata": {},
   "outputs": [
    {
     "data": {
      "text/html": [
       "<html>\n",
       "<div style=\"display:flex; align-items:center;\">\n",
       "<div style=\"width:290px;\">\n",
       "<svg xmlns=\"http://www.w3.org/2000/svg\" viewBox=\"-10 -105 270 120\">\n",
       "<line x1=\"-5\" y1=\"0\" x2=\"255\" y2=\"0\" style=\"fill:none;stroke-width:2;stroke:currentColor\"/>\n",
       "<text text-anchor=\"middle\" x=\"0\" y=\"15\" style=\"fill:currentColor;\">\n",
       "0\n",
       "</text>\n",
       "<text text-anchor=\"middle\" x=\"250\" y=\"15\" style=\"fill:currentColor;\">\n",
       "2e+05\n",
       "</text>\n",
       "<text text-anchor=\"middle\" x=\"125.0\" y=\"15\" style=\"fill:currentColor;\">\n",
       "Area\n",
       "</text>\n",
       "<polyline points=\"  0,0   0,-0 0.25,-0 0.25,-0 0.5,-0 0.5,-0 0.75,-0 0.75,-0   1,-0   1,-0 1.25,-0 1.25,-0 1.5,-0 1.5,-0.178 1.75,-0.178 1.75,-0.355   2,-0.355   2,-0.178 2.25,-0.178 2.25,-0.533 2.5,-0.533 2.5,-0.533 2.75,-0.533 2.75,-0.533   3,-0.533   3,-0.355 3.25,-0.355 3.25,-0 3.5,-0 3.5,-0.533 3.75,-0.533 3.75,-1.42   4,-1.42   4,-0.355 4.25,-0.355 4.25,-0.533 4.5,-0.533 4.5,-0.71 4.75,-0.71 4.75,-0.178   5,-0.178   5,-0.71 5.25,-0.71 5.25,-0.71 5.5,-0.71 5.5,-0.355 5.75,-0.355 5.75,-1.07   6,-1.07   6,-0.888 6.25,-0.888 6.25,-0.888 6.5,-0.888 6.5,-0.533 6.75,-0.533 6.75,-1.42   7,-1.42   7,-0.888 7.25,-0.888 7.25,-1.24 7.5,-1.24 7.5,-0.533 7.75,-0.533 7.75,-0.888   8,-0.888   8,-0.888 8.25,-0.888 8.25,-0.71 8.5,-0.71 8.5,-1.07 8.75,-1.07 8.75,-1.42   9,-1.42   9,-1.07 9.25,-1.07 9.25,-1.42 9.5,-1.42 9.5,-1.24 9.75,-1.24 9.75,-1.78  10,-1.78  10,-1.6 10.25,-1.6 10.25,-1.24 10.5,-1.24 10.5,-1.07 10.75,-1.07 10.75,-1.07  11,-1.07  11,-1.95 11.25,-1.95 11.25,-1.95 11.5,-1.95 11.5,-0.888 11.75,-0.888 11.75,-1.07  12,-1.07  12,-2.13 12.25,-2.13 12.25,-2.31 12.5,-2.31 12.5,-1.95 12.75,-1.95 12.75,-1.6  13,-1.6  13,-2.13 13.25,-2.13 13.25,-2.49 13.5,-2.49 13.5,-3.55 13.75,-3.55 13.75,-2.31  14,-2.31  14,-3.02 14.25,-3.02 14.25,-3.37 14.5,-3.37 14.5,-3.37 14.75,-3.37 14.75,-3.37  15,-3.37  15,-3.37 15.25,-3.37 15.25,-4.62 15.5,-4.62 15.5,-5.33 15.75,-5.33 15.75,-4.62  16,-4.62  16,-6.75 16.25,-6.75 16.25,-7.82 16.5,-7.82 16.5,-6.57 16.75,-6.57 16.75,-6.39  17,-6.39  17,-8.35 17.25,-8.35 17.25,-11.7 17.5,-11.7 17.5,-10.5 17.75,-10.5 17.75,-12.8  18,-12.8  18,-18.7 18.25,-18.7 18.25,-17.1 18.5,-17.1 18.5,-19.2 18.75,-19.2 18.75,-18.3  19,-18.3  19,-18.3 19.25,-18.3 19.25,-27.2 19.5,-27.2 19.5,-24.7 19.75,-24.7 19.75,-28.6  20,-28.6  20,-28.1 20.25,-28.1 20.25,-28.4 20.5,-28.4 20.5,-24.3 20.75,-24.3 20.75,-32.7  21,-32.7  21,-32.3 21.25,-32.3 21.25,-31.6 21.5,-31.6 21.5,-38.2 21.75,-38.2 21.75,-39.6  22,-39.6  22,-44.4 22.25,-44.4 22.25,-49.6 22.5,-49.6 22.5,-53.3 22.75,-53.3 22.75,-49.4  23,-49.4  23,-55.1 23.25,-55.1 23.25,-62.2 23.5,-62.2 23.5,-65.4 23.75,-65.4 23.75,-67.1  24,-67.1  24,-71.6 24.25,-71.6 24.25,-72.5 24.5,-72.5 24.5,-78 24.75,-78 24.75,-79.6  25,-79.6  25,-82.6 25.25,-82.6 25.25,-79.9 25.5,-79.9 25.5,-83.3 25.75,-83.3 25.75,-86  26,-86  26,-84.4 26.25,-84.4 26.25,-85.6 26.5,-85.6 26.5,-82.6 26.75,-82.6 26.75,-93.8  27,-93.8  27,-84.9 27.25,-84.9 27.25,-90.1 27.5,-90.1 27.5,-94.7 27.75,-94.7 27.75,-92.5  28,-92.5  28,-91.8 28.25,-91.8 28.25,-91.8 28.5,-91.8 28.5,-88.8 28.75,-88.8 28.75,-92.5  29,-92.5  29,-90.2 29.25,-90.2 29.25,-100 29.5,-100 29.5,-89 29.75,-89 29.75,-89.3  30,-89.3  30,-89 30.25,-89 30.25,-90.1 30.5,-90.1 30.5,-86 30.75,-86 30.75,-97  31,-97  31,-93.3 31.25,-93.3 31.25,-91.5 31.5,-91.5 31.5,-84.5 31.75,-84.5 31.75,-88.5  32,-88.5  32,-90.2 32.25,-90.2 32.25,-89.3 32.5,-89.3 32.5,-87.7 32.75,-87.7 32.75,-90.1  33,-90.1  33,-82.6 33.25,-82.6 33.25,-86.5 33.5,-86.5 33.5,-84 33.75,-84 33.75,-79.4  34,-79.4  34,-89.5 34.25,-89.5 34.25,-79.6 34.5,-79.6 34.5,-85.3 34.75,-85.3 34.75,-81  35,-81  35,-82.9 35.25,-82.9 35.25,-79 35.5,-79 35.5,-82.8 35.75,-82.8 35.75,-75.8  36,-75.8  36,-74.6 36.25,-74.6 36.25,-79 36.5,-79 36.5,-76.9 36.75,-76.9 36.75,-75  37,-75  37,-71.6 37.25,-71.6 37.25,-68.9 37.5,-68.9 37.5,-77.1 37.75,-77.1 37.75,-83.5  38,-83.5  38,-75.7 38.25,-75.7 38.25,-81.3 38.5,-81.3 38.5,-70.9 38.75,-70.9 38.75,-76  39,-76  39,-69.3 39.25,-69.3 39.25,-72.8 39.5,-72.8 39.5,-78.3 39.75,-78.3 39.75,-75.8  40,-75.8  40,-77.1 40.25,-77.1 40.25,-76.9 40.5,-76.9 40.5,-80.6 40.75,-80.6 40.75,-71.8  41,-71.8  41,-81.9 41.25,-81.9 41.25,-82.8 41.5,-82.8 41.5,-81.9 41.75,-81.9 41.75,-85.6  42,-85.6  42,-86.9 42.25,-86.9 42.25,-85.4 42.5,-85.4 42.5,-79.9 42.75,-79.9 42.75,-82.1  43,-82.1  43,-76.7 43.25,-76.7 43.25,-83.5 43.5,-83.5 43.5,-83.5 43.75,-83.5 43.75,-83.7  44,-83.7  44,-90.2 44.25,-90.2 44.25,-79.8 44.5,-79.8 44.5,-81.5 44.75,-81.5 44.75,-89.7  45,-89.7  45,-85.1 45.25,-85.1 45.25,-79.4 45.5,-79.4 45.5,-85.6 45.75,-85.6 45.75,-88.3  46,-88.3  46,-86.1 46.25,-86.1 46.25,-88.8 46.5,-88.8 46.5,-86.3 46.75,-86.3 46.75,-90.1  47,-90.1  47,-87.4 47.25,-87.4 47.25,-80.6 47.5,-80.6 47.5,-87 47.75,-87 47.75,-94.1  48,-94.1  48,-85.4 48.25,-85.4 48.25,-88.6 48.5,-88.6 48.5,-87.7 48.75,-87.7 48.75,-87.7  49,-87.7  49,-85.1 49.25,-85.1 49.25,-80.5 49.5,-80.5 49.5,-83.1 49.75,-83.1 49.75,-91.7  50,-91.7  50,-80.3 50.25,-80.3 50.25,-89.2 50.5,-89.2 50.5,-78.7 50.75,-78.7 50.75,-87.7  51,-87.7  51,-78.3 51.25,-78.3 51.25,-90.1 51.5,-90.1 51.5,-93.1 51.75,-93.1 51.75,-81.9  52,-81.9  52,-92.9 52.25,-92.9 52.25,-82.6 52.5,-82.6 52.5,-85.1 52.75,-85.1 52.75,-84.9  53,-84.9  53,-88.5 53.25,-88.5 53.25,-75.7 53.5,-75.7 53.5,-78.5 53.75,-78.5 53.75,-73.2  54,-73.2  54,-78.5 54.25,-78.5 54.25,-82.9 54.5,-82.9 54.5,-76.4 54.75,-76.4 54.75,-82.9  55,-82.9  55,-74.2 55.25,-74.2 55.25,-78.5 55.5,-78.5 55.5,-78.9 55.75,-78.9 55.75,-76.2  56,-76.2  56,-74.8 56.25,-74.8 56.25,-69.8 56.5,-69.8 56.5,-77.4 56.75,-77.4 56.75,-77.3  57,-77.3  57,-76.2 57.25,-76.2 57.25,-75.3 57.5,-75.3 57.5,-75.3 57.75,-75.3 57.75,-74.8  58,-74.8  58,-73.7 58.25,-73.7 58.25,-73.2 58.5,-73.2 58.5,-70.9 58.75,-70.9 58.75,-72.1  59,-72.1  59,-64.8 59.25,-64.8 59.25,-67.5 59.5,-67.5 59.5,-68.2 59.75,-68.2 59.75,-70.7  60,-70.7  60,-70.7 60.25,-70.7 60.25,-69.3 60.5,-69.3 60.5,-71.4 60.75,-71.4 60.75,-71.4  61,-71.4  61,-67.9 61.25,-67.9 61.25,-67.5 61.5,-67.5 61.5,-60.7 61.75,-60.7 61.75,-63.9  62,-63.9  62,-64.8 62.25,-64.8 62.25,-62.9 62.5,-62.9 62.5,-60.2 62.75,-60.2 62.75,-64.3  63,-64.3  63,-64.5 63.25,-64.5 63.25,-68 63.5,-68 63.5,-62.9 63.75,-62.9 63.75,-64.5  64,-64.5  64,-66.3 64.25,-66.3 64.25,-60.6 64.5,-60.6 64.5,-60.6 64.75,-60.6 64.75,-64.1  65,-64.1  65,-64.7 65.25,-64.7 65.25,-57.4 65.5,-57.4 65.5,-60.7 65.75,-60.7 65.75,-58.4  66,-58.4  66,-61.3 66.25,-61.3 66.25,-63.4 66.5,-63.4 66.5,-63.8 66.75,-63.8 66.75,-59.7  67,-59.7  67,-64.7 67.25,-64.7 67.25,-65.4 67.5,-65.4 67.5,-58.8 67.75,-58.8 67.75,-57.7  68,-57.7  68,-60.7 68.25,-60.7 68.25,-58.6 68.5,-58.6 68.5,-59.7 68.75,-59.7 68.75,-62.2  69,-62.2  69,-61.3 69.25,-61.3 69.25,-58.6 69.5,-58.6 69.5,-65.5 69.75,-65.5 69.75,-59.5  70,-59.5  70,-61.6 70.25,-61.6 70.25,-65.5 70.5,-65.5 70.5,-61.8 70.75,-61.8 70.75,-62  71,-62  71,-64.1 71.25,-64.1 71.25,-59.7 71.5,-59.7 71.5,-50.4 71.75,-50.4 71.75,-49  72,-49  72,-62.7 72.25,-62.7 72.25,-59.7 72.5,-59.7 72.5,-58.1 72.75,-58.1 72.75,-66.1  73,-66.1  73,-58.4 73.25,-58.4 73.25,-59 73.5,-59 73.5,-54.9 73.75,-54.9 73.75,-58.8  74,-58.8  74,-71.8 74.25,-71.8 74.25,-56.5 74.5,-56.5 74.5,-59.5 74.75,-59.5 74.75,-56.8  75,-56.8  75,-56 75.25,-56 75.25,-69.1 75.5,-69.1 75.5,-59.3 75.75,-59.3 75.75,-60  76,-60  76,-55.2 76.25,-55.2 76.25,-65.2 76.5,-65.2 76.5,-66.3 76.75,-66.3 76.75,-64.7  77,-64.7  77,-59.7 77.25,-59.7 77.25,-62.3 77.5,-62.3 77.5,-58.6 77.75,-58.6 77.75,-64.3  78,-64.3  78,-62.9 78.25,-62.9 78.25,-66.4 78.5,-66.4 78.5,-69.1 78.75,-69.1 78.75,-68.9  79,-68.9  79,-65.2 79.25,-65.2 79.25,-60.9 79.5,-60.9 79.5,-69.1 79.75,-69.1 79.75,-70.9  80,-70.9  80,-70.3 80.25,-70.3 80.25,-63.9 80.5,-63.9 80.5,-66.6 80.75,-66.6 80.75,-68.6  81,-68.6  81,-69.4 81.25,-69.4 81.25,-73.2 81.5,-73.2 81.5,-70 81.75,-70 81.75,-76.9  82,-76.9  82,-72.3 82.25,-72.3 82.25,-77.4 82.5,-77.4 82.5,-65.7 82.75,-65.7 82.75,-78  83,-78  83,-73.2 83.25,-73.2 83.25,-73.5 83.5,-73.5 83.5,-78.7 83.75,-78.7 83.75,-72.1  84,-72.1  84,-71 84.25,-71 84.25,-73.5 84.5,-73.5 84.5,-73.2 84.75,-73.2 84.75,-77.1  85,-77.1  85,-71.9 85.25,-71.9 85.25,-84 85.5,-84 85.5,-77.4 85.75,-77.4 85.75,-74.2  86,-74.2  86,-79.9 86.25,-79.9 86.25,-74.4 86.5,-74.4 86.5,-73.9 86.75,-73.9 86.75,-77.6  87,-77.6  87,-75.1 87.25,-75.1 87.25,-76.4 87.5,-76.4 87.5,-68.9 87.75,-68.9 87.75,-79.2  88,-79.2  88,-76.7 88.25,-76.7 88.25,-74.8 88.5,-74.8 88.5,-77.3 88.75,-77.3 88.75,-67  89,-67  89,-74.4 89.25,-74.4 89.25,-74.2 89.5,-74.2 89.5,-70 89.75,-70 89.75,-69.4  90,-69.4  90,-72.1 90.25,-72.1 90.25,-70 90.5,-70 90.5,-68.4 90.75,-68.4 90.75,-70.2  91,-70.2  91,-73.7 91.25,-73.7 91.25,-70.3 91.5,-70.3 91.5,-70 91.75,-70 91.75,-68.7  92,-68.7  92,-65.2 92.25,-65.2 92.25,-71.8 92.5,-71.8 92.5,-72.5 92.75,-72.5 92.75,-69.6  93,-69.6  93,-63.4 93.25,-63.4 93.25,-66.6 93.5,-66.6 93.5,-67.5 93.75,-67.5 93.75,-68.7  94,-68.7  94,-66.6 94.25,-66.6 94.25,-68.7 94.5,-68.7 94.5,-62.2 94.75,-62.2 94.75,-65.9  95,-65.9  95,-59.5 95.25,-59.5 95.25,-62.7 95.5,-62.7 95.5,-54 95.75,-54 95.75,-51.5  96,-51.5  96,-60.6 96.25,-60.6 96.25,-59 96.5,-59 96.5,-57.2 96.75,-57.2 96.75,-62.2  97,-62.2  97,-56.1 97.25,-56.1 97.25,-57.7 97.5,-57.7 97.5,-54.2 97.75,-54.2 97.75,-52.8  98,-52.8  98,-54.2 98.25,-54.2 98.25,-54.2 98.5,-54.2 98.5,-53.5 98.75,-53.5 98.75,-53.1  99,-53.1  99,-51.7 99.25,-51.7 99.25,-51 99.5,-51 99.5,-54.2 99.75,-54.2 99.75,-51.7 100,-51.7 100,-54.2 100.25,-54.2 100.25,-52.4 100.5,-52.4 100.5,-45.5 100.75,-45.5 100.75,-47.1 101,-47.1 101,-48.7 101.25,-48.7 101.25,-50.4 101.5,-50.4 101.5,-50.1 101.75,-50.1 101.75,-42.8 102,-42.8 102,-44.2 102.25,-44.2 102.25,-47.4 102.5,-47.4 102.5,-46.5 102.75,-46.5 102.75,-46 103,-46 103,-39.1 103.25,-39.1 103.25,-44.8 103.5,-44.8 103.5,-38.7 103.75,-38.7 103.75,-41.9 104,-41.9 104,-44.2 104.25,-44.2 104.25,-41.9 104.5,-41.9 104.5,-45.3 104.75,-45.3 104.75,-38.4 105,-38.4 105,-38 105.25,-38 105.25,-42.5 105.5,-42.5 105.5,-38.9 105.75,-38.9 105.75,-39.3 106,-39.3 106,-39.8 106.25,-39.8 106.25,-39.8 106.5,-39.8 106.5,-38.9 106.75,-38.9 106.75,-36.6 107,-36.6 107,-36.6 107.25,-36.6 107.25,-40.1 107.5,-40.1 107.5,-37.3 107.75,-37.3 107.75,-32.9 108,-32.9 108,-36.2 108.25,-36.2 108.25,-31.6 108.5,-31.6 108.5,-40.3 108.75,-40.3 108.75,-38 109,-38 109,-35.9 109.25,-35.9 109.25,-34.8 109.5,-34.8 109.5,-33.4 109.75,-33.4 109.75,-32.5 110,-32.5 110,-32.1 110.25,-32.1 110.25,-32.9 110.5,-32.9 110.5,-34.5 110.75,-34.5 110.75,-28.8 111,-28.8 111,-30.4 111.25,-30.4 111.25,-27.5 111.5,-27.5 111.5,-31.6 111.75,-31.6 111.75,-30.4 112,-30.4 112,-32.1 112.25,-32.1 112.25,-29.1 112.5,-29.1 112.5,-28.1 112.75,-28.1 112.75,-23.6 113,-23.6 113,-28.8 113.25,-28.8 113.25,-30.7 113.5,-30.7 113.5,-32.7 113.75,-32.7 113.75,-25.4 114,-25.4 114,-28.2 114.25,-28.2 114.25,-27.7 114.5,-27.7 114.5,-29.8 114.75,-29.8 114.75,-25.6 115,-25.6 115,-25.2 115.25,-25.2 115.25,-28.6 115.5,-28.6 115.5,-22.2 115.75,-22.2 115.75,-23.8 116,-23.8 116,-23.4 116.25,-23.4 116.25,-25.4 116.5,-25.4 116.5,-23.8 116.75,-23.8 116.75,-21.8 117,-21.8 117,-23.4 117.25,-23.4 117.25,-21.3 117.5,-21.3 117.5,-19.5 117.75,-19.5 117.75,-22.7 118,-22.7 118,-21.8 118.25,-21.8 118.25,-19.4 118.5,-19.4 118.5,-18.3 118.75,-18.3 118.75,-20.6 119,-20.6 119,-24.7 119.25,-24.7 119.25,-18.5 119.5,-18.5 119.5,-18.3 119.75,-18.3 119.75,-20.1 120,-20.1 120,-19 120.25,-19 120.25,-19.2 120.5,-19.2 120.5,-16.9 120.75,-16.9 120.75,-14.9 121,-14.9 121,-18.3 121.25,-18.3 121.25,-17.4 121.5,-17.4 121.5,-18.5 121.75,-18.5 121.75,-19.4 122,-19.4 122,-19 122.25,-19 122.25,-16.5 122.5,-16.5 122.5,-16.7 122.75,-16.7 122.75,-15.1 123,-15.1 123,-14 123.25,-14 123.25,-17.6 123.5,-17.6 123.5,-15.6 123.75,-15.6 123.75,-19 124,-19 124,-15.1 124.25,-15.1 124.25,-18.1 124.5,-18.1 124.5,-14.7 124.75,-14.7 124.75,-16.3 125,-16.3 125,-14 125.25,-14 125.25,-16.7 125.5,-16.7 125.5,-15.5 125.75,-15.5 125.75,-14.4 126,-14.4 126,-14.6 126.25,-14.6 126.25,-14.6 126.5,-14.6 126.5,-13.5 126.75,-13.5 126.75,-15.6 127,-15.6 127,-13.1 127.25,-13.1 127.25,-15.8 127.5,-15.8 127.5,-13.7 127.75,-13.7 127.75,-10.3 128,-10.3 128,-15.5 128.25,-15.5 128.25,-11.5 128.5,-11.5 128.5,-13.5 128.75,-13.5 128.75,-14 129,-14 129,-13 129.25,-13 129.25,-11.9 129.5,-11.9 129.5,-12.3 129.75,-12.3 129.75,-11.9 130,-11.9 130,-11.5 130.25,-11.5 130.25,-12.6 130.5,-12.6 130.5,-13.7 130.75,-13.7 130.75,-11.2 131,-11.2 131,-13.5 131.25,-13.5 131.25,-14 131.5,-14 131.5,-13.3 131.75,-13.3 131.75,-12.4 132,-12.4 132,-9.41 132.25,-9.41 132.25,-11.5 132.5,-11.5 132.5,-12.1 132.75,-12.1 132.75,-12.6 133,-12.6 133,-10.5 133.25,-10.5 133.25,-10.7 133.5,-10.7 133.5,-10.5 133.75,-10.5 133.75,-10.8 134,-10.8 134,-12.6 134.25,-12.6 134.25,-8.35 134.5,-8.35 134.5,-9.06 134.75,-9.06 134.75,-9.06 135,-9.06 135,-9.06 135.25,-9.06 135.25,-10.1 135.5,-10.1 135.5,-13.3 135.75,-13.3 135.75,-10.3 136,-10.3 136,-9.41 136.25,-9.41 136.25,-10.5 136.5,-10.5 136.5,-9.41 136.75,-9.41 136.75,-9.77 137,-9.77 137,-7.82 137.25,-7.82 137.25,-11.4 137.5,-11.4 137.5,-8.88 137.75,-8.88 137.75,-11.4 138,-11.4 138,-9.77 138.25,-9.77 138.25,-9.24 138.5,-9.24 138.5,-8.17 138.75,-8.17 138.75,-9.77 139,-9.77 139,-6.04 139.25,-6.04 139.25,-10.7 139.5,-10.7 139.5,-8.53 139.75,-8.53 139.75,-9.06 140,-9.06 140,-11 140.25,-11 140.25,-8.35 140.5,-8.35 140.5,-9.77 140.75,-9.77 140.75,-8.53 141,-8.53 141,-8.7 141.25,-8.7 141.25,-8.7 141.5,-8.7 141.5,-8.53 141.75,-8.53 141.75,-6.75 142,-6.75 142,-9.24 142.25,-9.24 142.25,-9.77 142.5,-9.77 142.5,-7.28 142.75,-7.28 142.75,-8.53 143,-8.53 143,-9.41 143.25,-9.41 143.25,-7.64 143.5,-7.64 143.5,-8.17 143.75,-8.17 143.75,-5.68 144,-5.68 144,-7.46 144.25,-7.46 144.25,-9.77 144.5,-9.77 144.5,-7.46 144.75,-7.46 144.75,-9.59 145,-9.59 145,-6.75 145.25,-6.75 145.25,-5.68 145.5,-5.68 145.5,-10.1 145.75,-10.1 145.75,-7.82 146,-7.82 146,-7.99 146.25,-7.99 146.25,-6.75 146.5,-6.75 146.5,-7.64 146.75,-7.64 146.75,-6.75 147,-6.75 147,-8.7 147.25,-8.7 147.25,-7.82 147.5,-7.82 147.5,-9.06 147.75,-9.06 147.75,-9.41 148,-9.41 148,-8.17 148.25,-8.17 148.25,-7.1 148.5,-7.1 148.5,-9.06 148.75,-9.06 148.75,-7.46 149,-7.46 149,-5.33 149.25,-5.33 149.25,-6.93 149.5,-6.93 149.5,-7.64 149.75,-7.64 149.75,-7.99 150,-7.99 150,-6.93 150.25,-6.93 150.25,-7.82 150.5,-7.82 150.5,-5.68 150.75,-5.68 150.75,-6.57 151,-6.57 151,-4.97 151.25,-4.97 151.25,-7.1 151.5,-7.1 151.5,-7.28 151.75,-7.28 151.75,-7.82 152,-7.82 152,-7.82 152.25,-7.82 152.25,-6.75 152.5,-6.75 152.5,-6.75 152.75,-6.75 152.75,-6.04 153,-6.04 153,-4.44 153.25,-4.44 153.25,-5.68 153.5,-5.68 153.5,-5.15 153.75,-5.15 153.75,-5.51 154,-5.51 154,-6.93 154.25,-6.93 154.25,-5.86 154.5,-5.86 154.5,-7.1 154.75,-7.1 154.75,-6.93 155,-6.93 155,-6.39 155.25,-6.39 155.25,-5.68 155.5,-5.68 155.5,-6.22 155.75,-6.22 155.75,-7.28 156,-7.28 156,-4.8 156.25,-4.8 156.25,-7.82 156.5,-7.82 156.5,-7.1 156.75,-7.1 156.75,-6.57 157,-6.57 157,-5.15 157.25,-5.15 157.25,-5.68 157.5,-5.68 157.5,-5.86 157.75,-5.86 157.75,-4.62 158,-4.62 158,-7.1 158.25,-7.1 158.25,-6.22 158.5,-6.22 158.5,-4.44 158.75,-4.44 158.75,-5.33 159,-5.33 159,-5.68 159.25,-5.68 159.25,-4.26 159.5,-4.26 159.5,-4.8 159.75,-4.8 159.75,-5.51 160,-5.51 160,-5.33 160.25,-5.33 160.25,-7.28 160.5,-7.28 160.5,-4.97 160.75,-4.97 160.75,-6.75 161,-6.75 161,-6.39 161.25,-6.39 161.25,-5.86 161.5,-5.86 161.5,-5.15 161.75,-5.15 161.75,-4.8 162,-4.8 162,-5.15 162.25,-5.15 162.25,-5.15 162.5,-5.15 162.5,-5.15 162.75,-5.15 162.75,-2.84 163,-2.84 163,-5.33 163.25,-5.33 163.25,-5.51 163.5,-5.51 163.5,-5.33 163.75,-5.33 163.75,-3.91 164,-3.91 164,-4.09 164.25,-4.09 164.25,-4.09 164.5,-4.09 164.5,-4.26 164.75,-4.26 164.75,-5.68 165,-5.68 165,-3.73 165.25,-3.73 165.25,-4.62 165.5,-4.62 165.5,-3.91 165.75,-3.91 165.75,-5.51 166,-5.51 166,-4.26 166.25,-4.26 166.25,-4.44 166.5,-4.44 166.5,-5.51 166.75,-5.51 166.75,-5.51 167,-5.51 167,-3.2 167.25,-3.2 167.25,-4.44 167.5,-4.44 167.5,-4.62 167.75,-4.62 167.75,-6.57 168,-6.57 168,-4.97 168.25,-4.97 168.25,-4.09 168.5,-4.09 168.5,-5.86 168.75,-5.86 168.75,-4.09 169,-4.09 169,-4.8 169.25,-4.8 169.25,-3.73 169.5,-3.73 169.5,-3.55 169.75,-3.55 169.75,-3.73 170,-3.73 170,-3.02 170.25,-3.02 170.25,-3.73 170.5,-3.73 170.5,-3.55 170.75,-3.55 170.75,-5.86 171,-5.86 171,-5.86 171.25,-5.86 171.25,-3.37 171.5,-3.37 171.5,-5.33 171.75,-5.33 171.75,-3.55 172,-3.55 172,-3.02 172.25,-3.02 172.25,-5.15 172.5,-5.15 172.5,-3.02 172.75,-3.02 172.75,-3.2 173,-3.2 173,-2.31 173.25,-2.31 173.25,-3.73 173.5,-3.73 173.5,-4.09 173.75,-4.09 173.75,-3.37 174,-3.37 174,-3.37 174.25,-3.37 174.25,-2.84 174.5,-2.84 174.5,-3.2 174.75,-3.2 174.75,-4.97 175,-4.97 175,-5.68 175.25,-5.68 175.25,-3.2 175.5,-3.2 175.5,-3.73 175.75,-3.73 175.75,-3.55 176,-3.55 176,-3.2 176.25,-3.2 176.25,-3.55 176.5,-3.55 176.5,-4.09 176.75,-4.09 176.75,-3.73 177,-3.73 177,-3.91 177.25,-3.91 177.25,-4.09 177.5,-4.09 177.5,-2.13 177.75,-2.13 177.75,-4.44 178,-4.44 178,-3.02 178.25,-3.02 178.25,-2.84 178.5,-2.84 178.5,-3.55 178.75,-3.55 178.75,-2.49 179,-2.49 179,-3.73 179.25,-3.73 179.25,-4.09 179.5,-4.09 179.5,-2.31 179.75,-2.31 179.75,-1.6 180,-1.6 180,-3.02 180.25,-3.02 180.25,-4.09 180.5,-4.09 180.5,-2.84 180.75,-2.84 180.75,-3.55 181,-3.55 181,-4.26 181.25,-4.26 181.25,-3.91 181.5,-3.91 181.5,-3.91 181.75,-3.91 181.75,-2.66 182,-2.66 182,-3.37 182.25,-3.37 182.25,-2.66 182.5,-2.66 182.5,-3.2 182.75,-3.2 182.75,-2.84 183,-2.84 183,-2.66 183.25,-2.66 183.25,-2.84 183.5,-2.84 183.5,-2.84 183.75,-2.84 183.75,-2.13 184,-2.13 184,-2.84 184.25,-2.84 184.25,-2.31 184.5,-2.31 184.5,-3.73 184.75,-3.73 184.75,-3.91 185,-3.91 185,-3.91 185.25,-3.91 185.25,-2.13 185.5,-2.13 185.5,-3.2 185.75,-3.2 185.75,-2.31 186,-2.31 186,-3.02 186.25,-3.02 186.25,-3.91 186.5,-3.91 186.5,-1.95 186.75,-1.95 186.75,-3.73 187,-3.73 187,-3.37 187.25,-3.37 187.25,-5.15 187.5,-5.15 187.5,-1.95 187.75,-1.95 187.75,-2.31 188,-2.31 188,-2.49 188.25,-2.49 188.25,-3.02 188.5,-3.02 188.5,-2.84 188.75,-2.84 188.75,-2.49 189,-2.49 189,-1.95 189.25,-1.95 189.25,-3.02 189.5,-3.02 189.5,-1.95 189.75,-1.95 189.75,-2.31 190,-2.31 190,-2.49 190.25,-2.49 190.25,-2.66 190.5,-2.66 190.5,-2.13 190.75,-2.13 190.75,-2.84 191,-2.84 191,-2.84 191.25,-2.84 191.25,-2.31 191.5,-2.31 191.5,-2.84 191.75,-2.84 191.75,-2.49 192,-2.49 192,-3.73 192.25,-3.73 192.25,-2.31 192.5,-2.31 192.5,-3.02 192.75,-3.02 192.75,-2.31 193,-2.31 193,-1.95 193.25,-1.95 193.25,-2.66 193.5,-2.66 193.5,-3.02 193.75,-3.02 193.75,-2.66 194,-2.66 194,-2.84 194.25,-2.84 194.25,-2.66 194.5,-2.66 194.5,-2.84 194.75,-2.84 194.75,-1.6 195,-1.6 195,-1.42 195.25,-1.42 195.25,-1.95 195.5,-1.95 195.5,-1.6 195.75,-1.6 195.75,-2.13 196,-2.13 196,-1.6 196.25,-1.6 196.25,-2.31 196.5,-2.31 196.5,-3.73 196.75,-3.73 196.75,-2.13 197,-2.13 197,-1.78 197.25,-1.78 197.25,-2.31 197.5,-2.31 197.5,-2.66 197.75,-2.66 197.75,-1.42 198,-1.42 198,-3.02 198.25,-3.02 198.25,-2.13 198.5,-2.13 198.5,-1.6 198.75,-1.6 198.75,-2.31 199,-2.31 199,-1.42 199.25,-1.42 199.25,-3.73 199.5,-3.73 199.5,-2.49 199.75,-2.49 199.75,-2.31 200,-2.31 200,-1.95 200.25,-1.95 200.25,-2.31 200.5,-2.31 200.5,-1.42 200.75,-1.42 200.75,-2.49 201,-2.49 201,-1.07 201.25,-1.07 201.25,-2.49 201.5,-2.49 201.5,-2.31 201.75,-2.31 201.75,-1.95 202,-1.95 202,-2.31 202.25,-2.31 202.25,-2.84 202.5,-2.84 202.5,-2.84 202.75,-2.84 202.75,-1.6 203,-1.6 203,-2.49 203.25,-2.49 203.25,-1.78 203.5,-1.78 203.5,-2.66 203.75,-2.66 203.75,-1.42 204,-1.42 204,-2.84 204.25,-2.84 204.25,-2.13 204.5,-2.13 204.5,-2.13 204.75,-2.13 204.75,-2.49 205,-2.49 205,-1.42 205.25,-1.42 205.25,-1.6 205.5,-1.6 205.5,-1.42 205.75,-1.42 205.75,-3.2 206,-3.2 206,-3.37 206.25,-3.37 206.25,-2.13 206.5,-2.13 206.5,-2.31 206.75,-2.31 206.75,-2.31 207,-2.31 207,-1.42 207.25,-1.42 207.25,-1.24 207.5,-1.24 207.5,-2.49 207.75,-2.49 207.75,-1.6 208,-1.6 208,-0.888 208.25,-0.888 208.25,-2.13 208.5,-2.13 208.5,-2.31 208.75,-2.31 208.75,-2.31 209,-2.31 209,-2.49 209.25,-2.49 209.25,-1.95 209.5,-1.95 209.5,-1.95 209.75,-1.95 209.75,-1.6 210,-1.6 210,-1.78 210.25,-1.78 210.25,-1.6 210.5,-1.6 210.5,-1.07 210.75,-1.07 210.75,-1.78 211,-1.78 211,-2.49 211.25,-2.49 211.25,-3.2 211.5,-3.2 211.5,-1.07 211.75,-1.07 211.75,-3.02 212,-3.02 212,-2.13 212.25,-2.13 212.25,-1.24 212.5,-1.24 212.5,-2.31 212.75,-2.31 212.75,-2.66 213,-2.66 213,-2.13 213.25,-2.13 213.25,-2.31 213.5,-2.31 213.5,-1.24 213.75,-1.24 213.75,-2.31 214,-2.31 214,-1.42 214.25,-1.42 214.25,-1.24 214.5,-1.24 214.5,-2.49 214.75,-2.49 214.75,-1.24 215,-1.24 215,-1.78 215.25,-1.78 215.25,-1.24 215.5,-1.24 215.5,-2.13 215.75,-2.13 215.75,-1.24 216,-1.24 216,-1.6 216.25,-1.6 216.25,-2.13 216.5,-2.13 216.5,-2.66 216.75,-2.66 216.75,-1.6 217,-1.6 217,-1.6 217.25,-1.6 217.25,-0.71 217.5,-0.71 217.5,-1.42 217.75,-1.42 217.75,-1.24 218,-1.24 218,-1.78 218.25,-1.78 218.25,-1.07 218.5,-1.07 218.5,-1.78 218.75,-1.78 218.75,-1.24 219,-1.24 219,-2.31 219.25,-2.31 219.25,-0.888 219.5,-0.888 219.5,-1.6 219.75,-1.6 219.75,-2.31 220,-2.31 220,-1.24 220.25,-1.24 220.25,-1.07 220.5,-1.07 220.5,-1.78 220.75,-1.78 220.75,-1.42 221,-1.42 221,-1.42 221.25,-1.42 221.25,-1.07 221.5,-1.07 221.5,-1.42 221.75,-1.42 221.75,-1.24 222,-1.24 222,-2.31 222.25,-2.31 222.25,-1.6 222.5,-1.6 222.5,-2.49 222.75,-2.49 222.75,-2.31 223,-2.31 223,-1.78 223.25,-1.78 223.25,-1.24 223.5,-1.24 223.5,-1.78 223.75,-1.78 223.75,-1.6 224,-1.6 224,-1.78 224.25,-1.78 224.25,-1.07 224.5,-1.07 224.5,-1.78 224.75,-1.78 224.75,-2.66 225,-2.66 225,-1.78 225.25,-1.78 225.25,-0.888 225.5,-0.888 225.5,-1.24 225.75,-1.24 225.75,-1.42 226,-1.42 226,-1.6 226.25,-1.6 226.25,-0.71 226.5,-0.71 226.5,-2.31 226.75,-2.31 226.75,-1.42 227,-1.42 227,-1.07 227.25,-1.07 227.25,-1.07 227.5,-1.07 227.5,-1.42 227.75,-1.42 227.75,-1.6 228,-1.6 228,-1.07 228.25,-1.07 228.25,-1.07 228.5,-1.07 228.5,-1.6 228.75,-1.6 228.75,-1.95 229,-1.95 229,-2.13 229.25,-2.13 229.25,-0.888 229.5,-0.888 229.5,-1.42 229.75,-1.42 229.75,-1.6 230,-1.6 230,-1.42 230.25,-1.42 230.25,-1.6 230.5,-1.6 230.5,-0.71 230.75,-0.71 230.75,-1.42 231,-1.42 231,-1.95 231.25,-1.95 231.25,-1.6 231.5,-1.6 231.5,-1.42 231.75,-1.42 231.75,-0.888 232,-0.888 232,-1.24 232.25,-1.24 232.25,-1.42 232.5,-1.42 232.5,-1.07 232.75,-1.07 232.75,-1.78 233,-1.78 233,-1.42 233.25,-1.42 233.25,-1.07 233.5,-1.07 233.5,-0.533 233.75,-0.533 233.75,-1.6 234,-1.6 234,-2.31 234.25,-2.31 234.25,-0.533 234.5,-0.533 234.5,-1.24 234.75,-1.24 234.75,-0.888 235,-0.888 235,-1.24 235.25,-1.24 235.25,-1.95 235.5,-1.95 235.5,-0.888 235.75,-0.888 235.75,-1.6 236,-1.6 236,-1.42 236.25,-1.42 236.25,-1.42 236.5,-1.42 236.5,-0.71 236.75,-0.71 236.75,-1.07 237,-1.07 237,-1.78 237.25,-1.78 237.25,-1.42 237.5,-1.42 237.5,-1.24 237.75,-1.24 237.75,-0.71 238,-0.71 238,-1.07 238.25,-1.07 238.25,-1.07 238.5,-1.07 238.5,-1.6 238.75,-1.6 238.75,-1.95 239,-1.95 239,-1.24 239.25,-1.24 239.25,-1.95 239.5,-1.95 239.5,-0.888 239.75,-0.888 239.75,-1.95 240,-1.95 240,-0.355 240.25,-0.355 240.25,-0.71 240.5,-0.71 240.5,-1.78 240.75,-1.78 240.75,-1.6 241,-1.6 241,-1.6 241.25,-1.6 241.25,-1.78 241.5,-1.78 241.5,-0.355 241.75,-0.355 241.75,-0.71 242,-0.71 242,-0.888 242.25,-0.888 242.25,-0.71 242.5,-0.71 242.5,-1.78 242.75,-1.78 242.75,-2.13 243,-2.13 243,-0.888 243.25,-0.888 243.25,-0.533 243.5,-0.533 243.5,-1.6 243.75,-1.6 243.75,-1.6 244,-1.6 244,-0.71 244.25,-0.71 244.25,-0.888 244.5,-0.888 244.5,-1.6 244.75,-1.6 244.75,-0.355 245,-0.355 245,-1.78 245.25,-1.78 245.25,-0.888 245.5,-0.888 245.5,-0.888 245.75,-0.888 245.75,-0.888 246,-0.888 246,-1.78 246.25,-1.78 246.25,-0.71 246.5,-0.71 246.5,-1.6 246.75,-1.6 246.75,-0.888 247,-0.888 247,-1.07 247.25,-1.07 247.25,-1.24 247.5,-1.24 247.5,-1.95 247.75,-1.95 247.75,-0.888 248,-0.888 248,-1.95 248.25,-1.95 248.25,-2.31 248.5,-2.31 248.5,-1.95 248.75,-1.95 248.75,-0.888 249,-0.888 249,-1.95 249.25,-1.95 249.25,-0.71 249.5,-0.71 249.5,-1.07 249.75,-1.07 249.75,-1.6 250,-1.6 250,0\" style=\"fill:none; stroke:currentColor;\"/>\n",
       "</svg>\n",
       "</div>\n",
       "<div style=\"flex=grow:1;\">\n",
       "Regular(1000, 0, 200000, name='Area')<br/>\n",
       "<hr style=\"margin-top:.2em; margin-bottom:.2em;\"/>\n",
       "Double() Σ=160307.0 <em>(168611.0 with flow)</em>\n",
       "\n",
       "</div>\n",
       "</div>\n",
       "</html>"
      ],
      "text/plain": [
       "Hist(Regular(1000, 0, 200000, name='Area'), storage=Double()) # Sum: 160307.0 (168611.0 with flow)"
      ]
     },
     "execution_count": 18,
     "metadata": {},
     "output_type": "execute_result"
    }
   ],
   "source": [
    "h1 = hist.Hist.new.Reg(1000, 0, 200000, name=\"Area\").Double()\n",
    "h1.fill(ak.flatten(branches_cut['area']))"
   ]
  },
  {
   "cell_type": "code",
   "execution_count": 19,
   "metadata": {},
   "outputs": [
    {
     "data": {
      "text/html": [
       "<pre>[{height: [1.27e+03, 1.27e+03], area: [5.41e+04, ...]},\n",
       " {height: [1.25e+03, 804, ..., 1.25e+03], area: [...]},\n",
       " {height: [], area: []},\n",
       " {height: [], area: []},\n",
       " {height: [1.25e+03, 1.25e+03], area: [8.27e+04, ...]},\n",
       " {height: [1.25e+03], area: [8.06e+04]},\n",
       " {height: [704, 1.25e+03, ..., 1.26e+03], area: [...]},\n",
       " {height: [1.07e+03], area: [4.29e+04]},\n",
       " {height: [797], area: [4.58e+04]},\n",
       " {height: [], area: []},\n",
       " ...,\n",
       " {height: [951, 1.25e+03], area: [3.03e+04, ...]},\n",
       " {height: [], area: []},\n",
       " {height: [], area: []},\n",
       " {height: [1.25e+03], area: [7.04e+04]},\n",
       " {height: [985], area: [3.74e+04]},\n",
       " {height: [1.07e+03, ..., 1.25e+03], area: [3.72e+04, ...]},\n",
       " {height: [], area: []},\n",
       " {height: [1.07e+03, 1.25e+03], area: [3.75e+04, ...]},\n",
       " {height: [1.15e+03, 1.07e+03, 725], area: [4.67e+04, ...]}]\n",
       "------------------------------------------------------------\n",
       "type: 100000 * {\n",
       "    height: var * float32,\n",
       "    area: var * float32\n",
       "}</pre>"
      ],
      "text/plain": [
       "<Array [{height: [...], area: [...]}, ...] type='100000 * {height: var * fl...'>"
      ]
     },
     "execution_count": 19,
     "metadata": {},
     "output_type": "execute_result"
    }
   ],
   "source": [
    "branches_cut = branches[area_cut & height_cut] #here we apply both the area and height cuts with & (can also use either with |, and not with ~)\n",
    "branches_cut #print"
   ]
  },
  {
   "cell_type": "code",
   "execution_count": 20,
   "metadata": {},
   "outputs": [
    {
     "data": {
      "text/html": [
       "<html>\n",
       "<div style=\"display:flex; align-items:center;\">\n",
       "<div style=\"width:290px;\">\n",
       "<svg xmlns=\"http://www.w3.org/2000/svg\" viewBox=\"-10 -105 270 120\">\n",
       "<line x1=\"-5\" y1=\"0\" x2=\"255\" y2=\"0\" style=\"fill:none;stroke-width:2;stroke:currentColor\"/>\n",
       "<text text-anchor=\"middle\" x=\"0\" y=\"15\" style=\"fill:currentColor;\">\n",
       "0\n",
       "</text>\n",
       "<text text-anchor=\"middle\" x=\"250\" y=\"15\" style=\"fill:currentColor;\">\n",
       "2e+05\n",
       "</text>\n",
       "<text text-anchor=\"middle\" x=\"125.0\" y=\"15\" style=\"fill:currentColor;\">\n",
       "Area\n",
       "</text>\n",
       "<polyline points=\"  0,0   0,-0 0.25,-0 0.25,-0 0.5,-0 0.5,-0 0.75,-0 0.75,-0   1,-0   1,-0 1.25,-0 1.25,-0 1.5,-0 1.5,-0 1.75,-0 1.75,-0   2,-0   2,-0 2.25,-0 2.25,-0 2.5,-0 2.5,-0.193 2.75,-0.193 2.75,-0   3,-0   3,-0.193 3.25,-0.193 3.25,-0 3.5,-0 3.5,-0 3.75,-0 3.75,-0.387   4,-0.387   4,-0 4.25,-0 4.25,-0.193 4.5,-0.193 4.5,-0.193 4.75,-0.193 4.75,-0   5,-0   5,-0.193 5.25,-0.193 5.25,-0.193 5.5,-0.193 5.5,-0 5.75,-0 5.75,-0.387   6,-0.387   6,-0.387 6.25,-0.387 6.25,-0.58 6.5,-0.58 6.5,-0 6.75,-0 6.75,-0.387   7,-0.387   7,-0.387 7.25,-0.387 7.25,-0.193 7.5,-0.193 7.5,-0.58 7.75,-0.58 7.75,-0.387   8,-0.387   8,-0.193 8.25,-0.193 8.25,-0.387 8.5,-0.387 8.5,-0.193 8.75,-0.193 8.75,-0.967   9,-0.967   9,-0.387 9.25,-0.387 9.25,-0.58 9.5,-0.58 9.5,-0.58 9.75,-0.58 9.75,-0.58  10,-0.58  10,-0.967 10.25,-0.967 10.25,-0.58 10.5,-0.58 10.5,-0 10.75,-0 10.75,-0.387  11,-0.387  11,-0.387 11.25,-0.387 11.25,-0.387 11.5,-0.387 11.5,-0.193 11.75,-0.193 11.75,-0.193  12,-0.193  12,-0.387 12.25,-0.387 12.25,-0.193 12.5,-0.193 12.5,-0.387 12.75,-0.387 12.75,-0.193  13,-0.193  13,-0.58 13.25,-0.58 13.25,-0.387 13.5,-0.387 13.5,-0.774 13.75,-0.774 13.75,-1.16  14,-1.16  14,-0.193 14.25,-0.193 14.25,-0.387 14.5,-0.387 14.5,-0.387 14.75,-0.387 14.75,-0  15,-0  15,-0.58 15.25,-0.58 15.25,-0.193 15.5,-0.193 15.5,-0.387 15.75,-0.387 15.75,-0.193  16,-0.193  16,-0.774 16.25,-0.774 16.25,-1.16 16.5,-1.16 16.5,-0.58 16.75,-0.58 16.75,-0.58  17,-0.58  17,-0.774 17.25,-0.774 17.25,-1.16 17.5,-1.16 17.5,-0.967 17.75,-0.967 17.75,-0.967  18,-0.967  18,-1.16 18.25,-1.16 18.25,-0.774 18.5,-0.774 18.5,-1.16 18.75,-1.16 18.75,-1.16  19,-1.16  19,-1.55 19.25,-1.55 19.25,-1.16 19.5,-1.16 19.5,-0.967 19.75,-0.967 19.75,-2.13  20,-2.13  20,-1.16 20.25,-1.16 20.25,-2.13 20.5,-2.13 20.5,-0.58 20.75,-0.58 20.75,-2.32  21,-2.32  21,-1.74 21.25,-1.74 21.25,-1.35 21.5,-1.35 21.5,-2.71 21.75,-2.71 21.75,-2.13  22,-2.13  22,-1.55 22.25,-1.55 22.25,-4.06 22.5,-4.06 22.5,-2.13 22.75,-2.13 22.75,-3.68  23,-3.68  23,-1.55 23.25,-1.55 23.25,-2.71 23.5,-2.71 23.5,-3.68 23.75,-3.68 23.75,-2.51  24,-2.51  24,-3.09 24.25,-3.09 24.25,-4.06 24.5,-4.06 24.5,-4.26 24.75,-4.26 24.75,-5.03  25,-5.03  25,-7.54 25.25,-7.54 25.25,-6.38 25.5,-6.38 25.5,-7.35 25.75,-7.35 25.75,-6.58  26,-6.58  26,-9.67 26.25,-9.67 26.25,-7.54 26.5,-7.54 26.5,-11.6 26.75,-11.6 26.75,-14.5  27,-14.5  27,-12.8 27.25,-12.8 27.25,-13.9 27.5,-13.9 27.5,-14.7 27.75,-14.7 27.75,-11.6  28,-11.6  28,-14.3 28.25,-14.3 28.25,-14.7 28.5,-14.7 28.5,-13.3 28.75,-13.3 28.75,-16.2  29,-16.2  29,-19.9 29.25,-19.9 29.25,-17.4 29.5,-17.4 29.5,-19.3 29.75,-19.3 29.75,-18.8  30,-18.8  30,-22.1 30.25,-22.1 30.25,-21.3 30.5,-21.3 30.5,-22.2 30.75,-22.2 30.75,-26.3  31,-26.3  31,-23 31.25,-23 31.25,-27.5 31.5,-27.5 31.5,-26.9 31.75,-26.9 31.75,-27.9  32,-27.9  32,-30.6 32.25,-30.6 32.25,-34.8 32.5,-34.8 32.5,-35 32.75,-35 32.75,-36.2  33,-36.2  33,-36.2 33.25,-36.2 33.25,-40 33.5,-40 33.5,-42 33.75,-42 33.75,-41.4  34,-41.4  34,-48 34.25,-48 34.25,-49.1 34.5,-49.1 34.5,-49.7 34.75,-49.7 34.75,-53  35,-53  35,-57.1 35.25,-57.1 35.25,-52 35.5,-52 35.5,-58 35.75,-58 35.75,-53  36,-53  36,-51.6 36.25,-51.6 36.25,-59.6 36.5,-59.6 36.5,-60.2 36.75,-60.2 36.75,-58.6  37,-58.6  37,-58.4 37.25,-58.4 37.25,-56.1 37.5,-56.1 37.5,-59.6 37.75,-59.6 37.75,-65.4  38,-65.4  38,-66.5 38.25,-66.5 38.25,-71 38.5,-71 38.5,-61.7 38.75,-61.7 38.75,-67.9  39,-67.9  39,-60.7 39.25,-60.7 39.25,-66.3 39.5,-66.3 39.5,-70.8 39.75,-70.8 39.75,-72.3  40,-72.3  40,-70.6 40.25,-70.6 40.25,-70.6 40.5,-70.6 40.5,-77.2 40.75,-77.2 40.75,-68.1  41,-68.1  41,-78.1 41.25,-78.1 41.25,-81 41.5,-81 41.5,-81.2 41.75,-81.2 41.75,-84.3  42,-84.3  42,-86.7 42.25,-86.7 42.25,-83.8 42.5,-83.8 42.5,-79.7 42.75,-79.7 42.75,-83  43,-83  43,-75.4 43.25,-75.4 43.25,-84.1 43.5,-84.1 43.5,-85.3 43.75,-85.3 43.75,-85.3  44,-85.3  44,-91.3 44.25,-91.3 44.25,-82 44.5,-82 44.5,-86.5 44.75,-86.5 44.75,-93.4  45,-93.4  45,-88.2 45.25,-88.2 45.25,-82 45.5,-82 45.5,-90.5 45.75,-90.5 45.75,-92.3  46,-92.3  46,-89.6 46.25,-89.6 46.25,-91.7 46.5,-91.7 46.5,-90.5 46.75,-90.5 46.75,-94.6  47,-94.6  47,-89.9 47.25,-89.9 47.25,-84.5 47.5,-84.5 47.5,-91.7 47.75,-91.7 47.75,-100  48,-100  48,-90.1 48.25,-90.1 48.25,-94.4 48.5,-94.4 48.5,-94.2 48.75,-94.2 48.75,-93  49,-93  49,-90.5 49.25,-90.5 49.25,-85.5 49.5,-85.5 49.5,-89 49.75,-89 49.75,-96.9  50,-96.9  50,-84.9 50.25,-84.9 50.25,-94.6 50.5,-94.6 50.5,-84.5 50.75,-84.5 50.75,-94.6  51,-94.6  51,-83.9 51.25,-83.9 51.25,-96.7 51.5,-96.7 51.5,-98.8 51.75,-98.8 51.75,-86.8  52,-86.8  52,-98.6 52.25,-98.6 52.25,-88.8 52.5,-88.8 52.5,-91.1 52.75,-91.1 52.75,-91.7  53,-91.7  53,-94.6 53.25,-94.6 53.25,-81 53.5,-81 53.5,-84.3 53.75,-84.3 53.75,-78.7  54,-78.7  54,-84.5 54.25,-84.5 54.25,-88.8 54.5,-88.8 54.5,-82.4 54.75,-82.4 54.75,-89.6  55,-89.6  55,-79.3 55.25,-79.3 55.25,-84.5 55.5,-84.5 55.5,-85.5 55.75,-85.5 55.75,-81.8  56,-81.8  56,-80.9 56.25,-80.9 56.25,-75.2 56.5,-75.2 56.5,-83.9 56.75,-83.9 56.75,-83.6  57,-83.6  57,-82.4 57.25,-82.4 57.25,-81.2 57.5,-81.2 57.5,-81.2 57.75,-81.2 57.75,-80.3  58,-80.3  58,-79.9 58.25,-79.9 58.25,-78.5 58.5,-78.5 58.5,-76.2 58.75,-76.2 58.75,-78.3  59,-78.3  59,-70.2 59.25,-70.2 59.25,-72.7 59.5,-72.7 59.5,-73.9 59.75,-73.9 59.75,-76  60,-76  60,-76.4 60.25,-76.4 60.25,-74.9 60.5,-74.9 60.5,-76.8 60.75,-76.8 60.75,-77.4  61,-77.4  61,-73.5 61.25,-73.5 61.25,-72.9 61.5,-72.9 61.5,-65.2 61.75,-65.2 61.75,-69.4  62,-69.4  62,-70.2 62.25,-70.2 62.25,-68.1 62.5,-68.1 62.5,-65 62.75,-65 62.75,-69.4  63,-69.4  63,-69.8 63.25,-69.8 63.25,-72.9 63.5,-72.9 63.5,-67.9 63.75,-67.9 63.75,-69.8  64,-69.8  64,-71.2 64.25,-71.2 64.25,-65.6 64.5,-65.6 64.5,-66 64.75,-66 64.75,-69.2  65,-69.2  65,-70.2 65.25,-70.2 65.25,-61.7 65.5,-61.7 65.5,-66 65.75,-66 65.75,-63.2  66,-63.2  66,-66.2 66.25,-66.2 66.25,-68.9 66.5,-68.9 66.5,-68.9 66.75,-68.9 66.75,-64.6  67,-64.6  67,-69.8 67.25,-69.8 67.25,-70.8 67.5,-70.8 67.5,-63.4 67.75,-63.4 67.75,-62.3  68,-62.3  68,-65.6 68.25,-65.6 68.25,-63.4 68.5,-63.4 68.5,-64.6 68.75,-64.6 68.75,-66.3  69,-66.3  69,-66.2 69.25,-66.2 69.25,-63.4 69.5,-63.4 69.5,-71.2 69.75,-71.2 69.75,-64.8  70,-64.8  70,-66.9 70.25,-66.9 70.25,-71.4 70.5,-71.4 70.5,-67.3 70.75,-67.3 70.75,-67.3  71,-67.3  71,-69.2 71.25,-69.2 71.25,-64.8 71.5,-64.8 71.5,-54.7 71.75,-54.7 71.75,-53  72,-53  72,-68.1 72.25,-68.1 72.25,-64 72.5,-64 72.5,-62.7 72.75,-62.7 72.75,-71.6  73,-71.6  73,-63.6 73.25,-63.6 73.25,-64 73.5,-64 73.5,-59.4 73.75,-59.4 73.75,-64  74,-64  74,-77.9 74.25,-77.9 74.25,-61.5 74.5,-61.5 74.5,-64.6 74.75,-64.6 74.75,-61.9  75,-61.9  75,-60.7 75.25,-60.7 75.25,-74.7 75.5,-74.7 75.5,-64.2 75.75,-64.2 75.75,-65.2  76,-65.2  76,-60.2 76.25,-60.2 76.25,-71 76.5,-71 76.5,-72.1 76.75,-72.1 76.75,-70.2  77,-70.2  77,-64.6 77.25,-64.6 77.25,-67.5 77.5,-67.5 77.5,-63.8 77.75,-63.8 77.75,-70  78,-70  78,-68.3 78.25,-68.3 78.25,-72.1 78.5,-72.1 78.5,-74.9 78.75,-74.9 78.75,-75  79,-75  79,-70.6 79.25,-70.6 79.25,-66.2 79.5,-66.2 79.5,-75.2 79.75,-75.2 79.75,-77.2  80,-77.2  80,-76.4 80.25,-76.4 80.25,-69.4 80.5,-69.4 80.5,-72.3 80.75,-72.3 80.75,-74.7  81,-74.7  81,-75.4 81.25,-75.4 81.25,-79.7 81.5,-79.7 81.5,-76.2 81.75,-76.2 81.75,-83.4  82,-83.4  82,-78.5 82.25,-78.5 82.25,-84.3 82.5,-84.3 82.5,-71.6 82.75,-71.6 82.75,-84.7  83,-84.7  83,-79.7 83.25,-79.7 83.25,-79.9 83.5,-79.9 83.5,-85.7 83.75,-85.7 83.75,-78.3  84,-78.3  84,-77.4 84.25,-77.4 84.25,-80.1 84.5,-80.1 84.5,-79.5 84.75,-79.5 84.75,-83.9  85,-83.9  85,-78.3 85.25,-78.3 85.25,-91.3 85.5,-91.3 85.5,-84.3 85.75,-84.3 85.75,-80.9  86,-80.9  86,-87 86.25,-87 86.25,-80.9 86.5,-80.9 86.5,-80.5 86.75,-80.5 86.75,-84.5  87,-84.5  87,-81.8 87.25,-81.8 87.25,-83.2 87.5,-83.2 87.5,-74.9 87.75,-74.9 87.75,-86.3  88,-86.3  88,-83.6 88.25,-83.6 88.25,-81.4 88.5,-81.4 88.5,-84.1 88.75,-84.1 88.75,-72.9  89,-72.9  89,-81 89.25,-81 89.25,-80.7 89.5,-80.7 89.5,-76.2 89.75,-76.2 89.75,-75.6  90,-75.6  90,-78.1 90.25,-78.1 90.25,-76 90.5,-76 90.5,-74.3 90.75,-74.3 90.75,-76.4  91,-76.4  91,-80.3 91.25,-80.3 91.25,-76.6 91.5,-76.6 91.5,-76.2 91.75,-76.2 91.75,-74.7  92,-74.7  92,-71 92.25,-71 92.25,-78.1 92.5,-78.1 92.5,-78.7 92.75,-78.7 92.75,-75.8  93,-75.8  93,-69.1 93.25,-69.1 93.25,-72.3 93.5,-72.3 93.5,-73.5 93.75,-73.5 93.75,-74.9  94,-74.9  94,-72.5 94.25,-72.5 94.25,-74.9 94.5,-74.9 94.5,-67.7 94.75,-67.7 94.75,-71.6  95,-71.6  95,-64.8 95.25,-64.8 95.25,-68.3 95.5,-68.3 95.5,-58.8 95.75,-58.8 95.75,-56.1  96,-56.1  96,-66 96.25,-66 96.25,-64.2 96.5,-64.2 96.5,-62.3 96.75,-62.3 96.75,-67.7  97,-67.7  97,-60.9 97.25,-60.9 97.25,-62.9 97.5,-62.9 97.5,-59 97.75,-59 97.75,-57.4  98,-57.4  98,-59 98.25,-59 98.25,-58.8 98.5,-58.8 98.5,-58.2 98.75,-58.2 98.75,-57.8  99,-57.8  99,-56.3 99.25,-56.3 99.25,-55.5 99.5,-55.5 99.5,-58.8 99.75,-58.8 99.75,-56.3 100,-56.3 100,-59 100.25,-59 100.25,-57.1 100.5,-57.1 100.5,-49.5 100.75,-49.5 100.75,-51.3 101,-51.3 101,-53 101.25,-53 101.25,-54.9 101.5,-54.9 101.5,-54.5 101.75,-54.5 101.75,-46.6 102,-46.6 102,-48 102.25,-48 102.25,-51.6 102.5,-51.6 102.5,-50.7 102.75,-50.7 102.75,-50.1 103,-50.1 103,-42.6 103.25,-42.6 103.25,-48.7 103.5,-48.7 103.5,-42 103.75,-42 103.75,-45.6 104,-45.6 104,-48.2 104.25,-48.2 104.25,-45.6 104.5,-45.6 104.5,-49.3 104.75,-49.3 104.75,-41.8 105,-41.8 105,-41.4 105.25,-41.4 105.25,-46.2 105.5,-46.2 105.5,-42.4 105.75,-42.4 105.75,-42.7 106,-42.7 106,-43.3 106.25,-43.3 106.25,-43.3 106.5,-43.3 106.5,-42.4 106.75,-42.4 106.75,-39.8 107,-39.8 107,-39.8 107.25,-39.8 107.25,-43.7 107.5,-43.7 107.5,-40.6 107.75,-40.6 107.75,-35.8 108,-35.8 108,-39.5 108.25,-39.5 108.25,-34.4 108.5,-34.4 108.5,-43.9 108.75,-43.9 108.75,-41.4 109,-41.4 109,-39.1 109.25,-39.1 109.25,-37.9 109.5,-37.9 109.5,-36.4 109.75,-36.4 109.75,-35.4 110,-35.4 110,-35 110.25,-35 110.25,-35.8 110.5,-35.8 110.5,-37.5 110.75,-37.5 110.75,-31.3 111,-31.3 111,-33.1 111.25,-33.1 111.25,-30 111.5,-30 111.5,-34.4 111.75,-34.4 111.75,-33.1 112,-33.1 112,-35 112.25,-35 112.25,-31.7 112.5,-31.7 112.5,-30.6 112.75,-30.6 112.75,-25.7 113,-25.7 113,-31.3 113.25,-31.3 113.25,-33.5 113.5,-33.5 113.5,-35.6 113.75,-35.6 113.75,-27.7 114,-27.7 114,-30.8 114.25,-30.8 114.25,-30.2 114.5,-30.2 114.5,-32.5 114.75,-32.5 114.75,-27.7 115,-27.7 115,-27.5 115.25,-27.5 115.25,-31.1 115.5,-31.1 115.5,-24.2 115.75,-24.2 115.75,-25.9 116,-25.9 116,-25.5 116.25,-25.5 116.25,-27.7 116.5,-27.7 116.5,-25.9 116.75,-25.9 116.75,-23.6 117,-23.6 117,-25.5 117.25,-25.5 117.25,-23.2 117.5,-23.2 117.5,-21.3 117.75,-21.3 117.75,-24.8 118,-24.8 118,-23.8 118.25,-23.8 118.25,-21.1 118.5,-21.1 118.5,-19.9 118.75,-19.9 118.75,-22.4 119,-22.4 119,-26.9 119.25,-26.9 119.25,-20.1 119.5,-20.1 119.5,-19.7 119.75,-19.7 119.75,-21.9 120,-21.9 120,-20.7 120.25,-20.7 120.25,-20.9 120.5,-20.9 120.5,-18.4 120.75,-18.4 120.75,-16.2 121,-16.2 121,-19.9 121.25,-19.9 121.25,-19 121.5,-19 121.5,-20.1 121.75,-20.1 121.75,-21.1 122,-21.1 122,-20.7 122.25,-20.7 122.25,-18 122.5,-18 122.5,-18.2 122.75,-18.2 122.75,-16.4 123,-16.4 123,-15.3 123.25,-15.3 123.25,-19.1 123.5,-19.1 123.5,-17 123.75,-17 123.75,-20.7 124,-20.7 124,-16.4 124.25,-16.4 124.25,-19.7 124.5,-19.7 124.5,-16.1 124.75,-16.1 124.75,-17.8 125,-17.8 125,-15.3 125.25,-15.3 125.25,-18.2 125.5,-18.2 125.5,-16.8 125.75,-16.8 125.75,-15.7 126,-15.7 126,-15.7 126.25,-15.7 126.25,-15.9 126.5,-15.9 126.5,-14.7 126.75,-14.7 126.75,-17 127,-17 127,-14.3 127.25,-14.3 127.25,-17.2 127.5,-17.2 127.5,-14.9 127.75,-14.9 127.75,-11.2 128,-11.2 128,-16.8 128.25,-16.8 128.25,-12.6 128.5,-12.6 128.5,-14.7 128.75,-14.7 128.75,-15.3 129,-15.3 129,-14.1 129.25,-14.1 129.25,-13 129.5,-13 129.5,-13.3 129.75,-13.3 129.75,-13 130,-13 130,-12.6 130.25,-12.6 130.25,-13.7 130.5,-13.7 130.5,-14.9 130.75,-14.9 130.75,-12.2 131,-12.2 131,-14.7 131.25,-14.7 131.25,-15.3 131.5,-15.3 131.5,-14.5 131.75,-14.5 131.75,-13.5 132,-13.5 132,-10.3 132.25,-10.3 132.25,-12.6 132.5,-12.6 132.5,-13.2 132.75,-13.2 132.75,-13.7 133,-13.7 133,-11.4 133.25,-11.4 133.25,-11.6 133.5,-11.6 133.5,-11.4 133.75,-11.4 133.75,-11.8 134,-11.8 134,-13.7 134.25,-13.7 134.25,-9.09 134.5,-9.09 134.5,-9.86 134.75,-9.86 134.75,-9.86 135,-9.86 135,-9.86 135.25,-9.86 135.25,-11 135.5,-11 135.5,-14.5 135.75,-14.5 135.75,-11.2 136,-11.2 136,-10.3 136.25,-10.3 136.25,-11.4 136.5,-11.4 136.5,-10.3 136.75,-10.3 136.75,-10.6 137,-10.6 137,-8.51 137.25,-8.51 137.25,-12.4 137.5,-12.4 137.5,-9.67 137.75,-9.67 137.75,-12.4 138,-12.4 138,-10.6 138.25,-10.6 138.25,-10.1 138.5,-10.1 138.5,-8.9 138.75,-8.9 138.75,-10.6 139,-10.6 139,-6.58 139.25,-6.58 139.25,-11.6 139.5,-11.6 139.5,-9.28 139.75,-9.28 139.75,-9.86 140,-9.86 140,-12 140.25,-12 140.25,-9.09 140.5,-9.09 140.5,-10.6 140.75,-10.6 140.75,-9.28 141,-9.28 141,-9.48 141.25,-9.48 141.25,-9.48 141.5,-9.48 141.5,-9.28 141.75,-9.28 141.75,-7.35 142,-7.35 142,-10.1 142.25,-10.1 142.25,-10.6 142.5,-10.6 142.5,-7.93 142.75,-7.93 142.75,-9.28 143,-9.28 143,-10.3 143.25,-10.3 143.25,-8.32 143.5,-8.32 143.5,-8.9 143.75,-8.9 143.75,-6.19 144,-6.19 144,-8.12 144.25,-8.12 144.25,-10.6 144.5,-10.6 144.5,-8.12 144.75,-8.12 144.75,-10.4 145,-10.4 145,-7.35 145.25,-7.35 145.25,-6.19 145.5,-6.19 145.5,-11 145.75,-11 145.75,-8.51 146,-8.51 146,-8.7 146.25,-8.7 146.25,-7.35 146.5,-7.35 146.5,-8.32 146.75,-8.32 146.75,-7.35 147,-7.35 147,-9.48 147.25,-9.48 147.25,-8.51 147.5,-8.51 147.5,-9.86 147.75,-9.86 147.75,-10.3 148,-10.3 148,-8.9 148.25,-8.9 148.25,-7.74 148.5,-7.74 148.5,-9.86 148.75,-9.86 148.75,-8.12 149,-8.12 149,-5.8 149.25,-5.8 149.25,-7.54 149.5,-7.54 149.5,-8.32 149.75,-8.32 149.75,-8.7 150,-8.7 150,-7.54 150.25,-7.54 150.25,-8.51 150.5,-8.51 150.5,-6.19 150.75,-6.19 150.75,-7.16 151,-7.16 151,-5.42 151.25,-5.42 151.25,-7.74 151.5,-7.74 151.5,-7.93 151.75,-7.93 151.75,-8.51 152,-8.51 152,-8.51 152.25,-8.51 152.25,-7.35 152.5,-7.35 152.5,-7.35 152.75,-7.35 152.75,-6.58 153,-6.58 153,-4.84 153.25,-4.84 153.25,-6.19 153.5,-6.19 153.5,-5.61 153.75,-5.61 153.75,-6 154,-6 154,-7.54 154.25,-7.54 154.25,-6.38 154.5,-6.38 154.5,-7.74 154.75,-7.74 154.75,-7.54 155,-7.54 155,-6.96 155.25,-6.96 155.25,-6.19 155.5,-6.19 155.5,-6.77 155.75,-6.77 155.75,-7.93 156,-7.93 156,-5.22 156.25,-5.22 156.25,-8.51 156.5,-8.51 156.5,-7.74 156.75,-7.74 156.75,-7.16 157,-7.16 157,-5.61 157.25,-5.61 157.25,-6.19 157.5,-6.19 157.5,-6.38 157.75,-6.38 157.75,-5.03 158,-5.03 158,-7.74 158.25,-7.74 158.25,-6.77 158.5,-6.77 158.5,-4.84 158.75,-4.84 158.75,-5.8 159,-5.8 159,-6.19 159.25,-6.19 159.25,-4.64 159.5,-4.64 159.5,-5.22 159.75,-5.22 159.75,-6 160,-6 160,-5.8 160.25,-5.8 160.25,-7.93 160.5,-7.93 160.5,-5.42 160.75,-5.42 160.75,-7.35 161,-7.35 161,-6.96 161.25,-6.96 161.25,-6.38 161.5,-6.38 161.5,-5.61 161.75,-5.61 161.75,-5.22 162,-5.22 162,-5.61 162.25,-5.61 162.25,-5.61 162.5,-5.61 162.5,-5.61 162.75,-5.61 162.75,-3.09 163,-3.09 163,-5.8 163.25,-5.8 163.25,-6 163.5,-6 163.5,-5.8 163.75,-5.8 163.75,-4.26 164,-4.26 164,-4.45 164.25,-4.45 164.25,-4.45 164.5,-4.45 164.5,-4.64 164.75,-4.64 164.75,-6.19 165,-6.19 165,-4.06 165.25,-4.06 165.25,-5.03 165.5,-5.03 165.5,-4.26 165.75,-4.26 165.75,-6 166,-6 166,-4.64 166.25,-4.64 166.25,-4.84 166.5,-4.84 166.5,-6 166.75,-6 166.75,-6 167,-6 167,-3.48 167.25,-3.48 167.25,-4.84 167.5,-4.84 167.5,-5.03 167.75,-5.03 167.75,-7.16 168,-7.16 168,-5.42 168.25,-5.42 168.25,-4.45 168.5,-4.45 168.5,-6.38 168.75,-6.38 168.75,-4.45 169,-4.45 169,-5.22 169.25,-5.22 169.25,-4.06 169.5,-4.06 169.5,-3.87 169.75,-3.87 169.75,-4.06 170,-4.06 170,-3.29 170.25,-3.29 170.25,-4.06 170.5,-4.06 170.5,-3.87 170.75,-3.87 170.75,-6.38 171,-6.38 171,-6.38 171.25,-6.38 171.25,-3.68 171.5,-3.68 171.5,-5.8 171.75,-5.8 171.75,-3.87 172,-3.87 172,-3.29 172.25,-3.29 172.25,-5.61 172.5,-5.61 172.5,-3.29 172.75,-3.29 172.75,-3.48 173,-3.48 173,-2.51 173.25,-2.51 173.25,-4.06 173.5,-4.06 173.5,-4.45 173.75,-4.45 173.75,-3.68 174,-3.68 174,-3.68 174.25,-3.68 174.25,-3.09 174.5,-3.09 174.5,-3.48 174.75,-3.48 174.75,-5.42 175,-5.42 175,-6.19 175.25,-6.19 175.25,-3.48 175.5,-3.48 175.5,-4.06 175.75,-4.06 175.75,-3.87 176,-3.87 176,-3.48 176.25,-3.48 176.25,-3.87 176.5,-3.87 176.5,-4.45 176.75,-4.45 176.75,-4.06 177,-4.06 177,-4.26 177.25,-4.26 177.25,-4.45 177.5,-4.45 177.5,-2.32 177.75,-2.32 177.75,-4.84 178,-4.84 178,-3.29 178.25,-3.29 178.25,-3.09 178.5,-3.09 178.5,-3.87 178.75,-3.87 178.75,-2.71 179,-2.71 179,-4.06 179.25,-4.06 179.25,-4.45 179.5,-4.45 179.5,-2.51 179.75,-2.51 179.75,-1.74 180,-1.74 180,-3.29 180.25,-3.29 180.25,-4.45 180.5,-4.45 180.5,-3.09 180.75,-3.09 180.75,-3.87 181,-3.87 181,-4.64 181.25,-4.64 181.25,-4.26 181.5,-4.26 181.5,-4.26 181.75,-4.26 181.75,-2.9 182,-2.9 182,-3.68 182.25,-3.68 182.25,-2.9 182.5,-2.9 182.5,-3.48 182.75,-3.48 182.75,-3.09 183,-3.09 183,-2.9 183.25,-2.9 183.25,-3.09 183.5,-3.09 183.5,-3.09 183.75,-3.09 183.75,-2.32 184,-2.32 184,-3.09 184.25,-3.09 184.25,-2.51 184.5,-2.51 184.5,-4.06 184.75,-4.06 184.75,-4.26 185,-4.26 185,-4.26 185.25,-4.26 185.25,-2.32 185.5,-2.32 185.5,-3.48 185.75,-3.48 185.75,-2.51 186,-2.51 186,-3.29 186.25,-3.29 186.25,-4.26 186.5,-4.26 186.5,-2.13 186.75,-2.13 186.75,-4.06 187,-4.06 187,-3.68 187.25,-3.68 187.25,-5.61 187.5,-5.61 187.5,-2.13 187.75,-2.13 187.75,-2.51 188,-2.51 188,-2.71 188.25,-2.71 188.25,-3.29 188.5,-3.29 188.5,-3.09 188.75,-3.09 188.75,-2.71 189,-2.71 189,-2.13 189.25,-2.13 189.25,-3.29 189.5,-3.29 189.5,-2.13 189.75,-2.13 189.75,-2.51 190,-2.51 190,-2.71 190.25,-2.71 190.25,-2.9 190.5,-2.9 190.5,-2.32 190.75,-2.32 190.75,-3.09 191,-3.09 191,-3.09 191.25,-3.09 191.25,-2.51 191.5,-2.51 191.5,-3.09 191.75,-3.09 191.75,-2.71 192,-2.71 192,-4.06 192.25,-4.06 192.25,-2.51 192.5,-2.51 192.5,-3.29 192.75,-3.29 192.75,-2.51 193,-2.51 193,-2.13 193.25,-2.13 193.25,-2.9 193.5,-2.9 193.5,-3.29 193.75,-3.29 193.75,-2.9 194,-2.9 194,-3.09 194.25,-3.09 194.25,-2.9 194.5,-2.9 194.5,-3.09 194.75,-3.09 194.75,-1.74 195,-1.74 195,-1.55 195.25,-1.55 195.25,-2.13 195.5,-2.13 195.5,-1.74 195.75,-1.74 195.75,-2.32 196,-2.32 196,-1.74 196.25,-1.74 196.25,-2.51 196.5,-2.51 196.5,-4.06 196.75,-4.06 196.75,-2.32 197,-2.32 197,-1.93 197.25,-1.93 197.25,-2.51 197.5,-2.51 197.5,-2.9 197.75,-2.9 197.75,-1.55 198,-1.55 198,-3.29 198.25,-3.29 198.25,-2.32 198.5,-2.32 198.5,-1.74 198.75,-1.74 198.75,-2.51 199,-2.51 199,-1.55 199.25,-1.55 199.25,-4.06 199.5,-4.06 199.5,-2.71 199.75,-2.71 199.75,-2.51 200,-2.51 200,-2.13 200.25,-2.13 200.25,-2.51 200.5,-2.51 200.5,-1.55 200.75,-1.55 200.75,-2.71 201,-2.71 201,-1.16 201.25,-1.16 201.25,-2.71 201.5,-2.71 201.5,-2.51 201.75,-2.51 201.75,-2.13 202,-2.13 202,-2.51 202.25,-2.51 202.25,-3.09 202.5,-3.09 202.5,-3.09 202.75,-3.09 202.75,-1.74 203,-1.74 203,-2.71 203.25,-2.71 203.25,-1.93 203.5,-1.93 203.5,-2.9 203.75,-2.9 203.75,-1.55 204,-1.55 204,-3.09 204.25,-3.09 204.25,-2.32 204.5,-2.32 204.5,-2.32 204.75,-2.32 204.75,-2.71 205,-2.71 205,-1.55 205.25,-1.55 205.25,-1.74 205.5,-1.74 205.5,-1.55 205.75,-1.55 205.75,-3.48 206,-3.48 206,-3.68 206.25,-3.68 206.25,-2.32 206.5,-2.32 206.5,-2.51 206.75,-2.51 206.75,-2.51 207,-2.51 207,-1.55 207.25,-1.55 207.25,-1.35 207.5,-1.35 207.5,-2.71 207.75,-2.71 207.75,-1.74 208,-1.74 208,-0.967 208.25,-0.967 208.25,-2.32 208.5,-2.32 208.5,-2.51 208.75,-2.51 208.75,-2.51 209,-2.51 209,-2.71 209.25,-2.71 209.25,-2.13 209.5,-2.13 209.5,-2.13 209.75,-2.13 209.75,-1.74 210,-1.74 210,-1.93 210.25,-1.93 210.25,-1.74 210.5,-1.74 210.5,-1.16 210.75,-1.16 210.75,-1.93 211,-1.93 211,-2.71 211.25,-2.71 211.25,-3.48 211.5,-3.48 211.5,-1.16 211.75,-1.16 211.75,-3.29 212,-3.29 212,-2.32 212.25,-2.32 212.25,-1.35 212.5,-1.35 212.5,-2.51 212.75,-2.51 212.75,-2.9 213,-2.9 213,-2.32 213.25,-2.32 213.25,-2.51 213.5,-2.51 213.5,-1.35 213.75,-1.35 213.75,-2.51 214,-2.51 214,-1.55 214.25,-1.55 214.25,-1.35 214.5,-1.35 214.5,-2.71 214.75,-2.71 214.75,-1.35 215,-1.35 215,-1.93 215.25,-1.93 215.25,-1.35 215.5,-1.35 215.5,-2.32 215.75,-2.32 215.75,-1.35 216,-1.35 216,-1.74 216.25,-1.74 216.25,-2.32 216.5,-2.32 216.5,-2.9 216.75,-2.9 216.75,-1.74 217,-1.74 217,-1.74 217.25,-1.74 217.25,-0.774 217.5,-0.774 217.5,-1.55 217.75,-1.55 217.75,-1.35 218,-1.35 218,-1.93 218.25,-1.93 218.25,-1.16 218.5,-1.16 218.5,-1.93 218.75,-1.93 218.75,-1.35 219,-1.35 219,-2.51 219.25,-2.51 219.25,-0.967 219.5,-0.967 219.5,-1.74 219.75,-1.74 219.75,-2.51 220,-2.51 220,-1.35 220.25,-1.35 220.25,-1.16 220.5,-1.16 220.5,-1.93 220.75,-1.93 220.75,-1.55 221,-1.55 221,-1.55 221.25,-1.55 221.25,-1.16 221.5,-1.16 221.5,-1.55 221.75,-1.55 221.75,-1.35 222,-1.35 222,-2.51 222.25,-2.51 222.25,-1.74 222.5,-1.74 222.5,-2.71 222.75,-2.71 222.75,-2.51 223,-2.51 223,-1.93 223.25,-1.93 223.25,-1.35 223.5,-1.35 223.5,-1.93 223.75,-1.93 223.75,-1.74 224,-1.74 224,-1.93 224.25,-1.93 224.25,-1.16 224.5,-1.16 224.5,-1.93 224.75,-1.93 224.75,-2.9 225,-2.9 225,-1.93 225.25,-1.93 225.25,-0.967 225.5,-0.967 225.5,-1.35 225.75,-1.35 225.75,-1.55 226,-1.55 226,-1.74 226.25,-1.74 226.25,-0.774 226.5,-0.774 226.5,-2.51 226.75,-2.51 226.75,-1.55 227,-1.55 227,-1.16 227.25,-1.16 227.25,-1.16 227.5,-1.16 227.5,-1.55 227.75,-1.55 227.75,-1.74 228,-1.74 228,-1.16 228.25,-1.16 228.25,-1.16 228.5,-1.16 228.5,-1.74 228.75,-1.74 228.75,-2.13 229,-2.13 229,-2.32 229.25,-2.32 229.25,-0.967 229.5,-0.967 229.5,-1.55 229.75,-1.55 229.75,-1.74 230,-1.74 230,-1.55 230.25,-1.55 230.25,-1.74 230.5,-1.74 230.5,-0.774 230.75,-0.774 230.75,-1.55 231,-1.55 231,-2.13 231.25,-2.13 231.25,-1.74 231.5,-1.74 231.5,-1.55 231.75,-1.55 231.75,-0.967 232,-0.967 232,-1.35 232.25,-1.35 232.25,-1.55 232.5,-1.55 232.5,-1.16 232.75,-1.16 232.75,-1.93 233,-1.93 233,-1.55 233.25,-1.55 233.25,-1.16 233.5,-1.16 233.5,-0.58 233.75,-0.58 233.75,-1.74 234,-1.74 234,-2.51 234.25,-2.51 234.25,-0.58 234.5,-0.58 234.5,-1.35 234.75,-1.35 234.75,-0.967 235,-0.967 235,-1.35 235.25,-1.35 235.25,-2.13 235.5,-2.13 235.5,-0.967 235.75,-0.967 235.75,-1.74 236,-1.74 236,-1.55 236.25,-1.55 236.25,-1.55 236.5,-1.55 236.5,-0.774 236.75,-0.774 236.75,-1.16 237,-1.16 237,-1.93 237.25,-1.93 237.25,-1.55 237.5,-1.55 237.5,-1.35 237.75,-1.35 237.75,-0.774 238,-0.774 238,-1.16 238.25,-1.16 238.25,-1.16 238.5,-1.16 238.5,-1.74 238.75,-1.74 238.75,-2.13 239,-2.13 239,-1.35 239.25,-1.35 239.25,-2.13 239.5,-2.13 239.5,-0.967 239.75,-0.967 239.75,-2.13 240,-2.13 240,-0.387 240.25,-0.387 240.25,-0.774 240.5,-0.774 240.5,-1.93 240.75,-1.93 240.75,-1.74 241,-1.74 241,-1.74 241.25,-1.74 241.25,-1.93 241.5,-1.93 241.5,-0.387 241.75,-0.387 241.75,-0.774 242,-0.774 242,-0.967 242.25,-0.967 242.25,-0.774 242.5,-0.774 242.5,-1.93 242.75,-1.93 242.75,-2.32 243,-2.32 243,-0.967 243.25,-0.967 243.25,-0.58 243.5,-0.58 243.5,-1.74 243.75,-1.74 243.75,-1.74 244,-1.74 244,-0.774 244.25,-0.774 244.25,-0.967 244.5,-0.967 244.5,-1.74 244.75,-1.74 244.75,-0.387 245,-0.387 245,-1.93 245.25,-1.93 245.25,-0.967 245.5,-0.967 245.5,-0.967 245.75,-0.967 245.75,-0.967 246,-0.967 246,-1.93 246.25,-1.93 246.25,-0.774 246.5,-0.774 246.5,-1.74 246.75,-1.74 246.75,-0.967 247,-0.967 247,-1.16 247.25,-1.16 247.25,-1.35 247.5,-1.35 247.5,-2.13 247.75,-2.13 247.75,-0.967 248,-0.967 248,-2.13 248.25,-2.13 248.25,-2.51 248.5,-2.51 248.5,-2.13 248.75,-2.13 248.75,-0.967 249,-0.967 249,-2.13 249.25,-2.13 249.25,-0.774 249.5,-0.774 249.5,-1.16 249.75,-1.16 249.75,-1.74 250,-1.74 250,0\" style=\"fill:none; stroke:currentColor;\"/>\n",
       "</svg>\n",
       "</div>\n",
       "<div style=\"flex=grow:1;\">\n",
       "Regular(1000, 0, 200000, name='Area')<br/>\n",
       "<hr style=\"margin-top:.2em; margin-bottom:.2em;\"/>\n",
       "Double() Σ=134542.0 <em>(142846.0 with flow)</em>\n",
       "\n",
       "</div>\n",
       "</div>\n",
       "</html>"
      ],
      "text/plain": [
       "Hist(Regular(1000, 0, 200000, name='Area'), storage=Double()) # Sum: 134542.0 (142846.0 with flow)"
      ]
     },
     "execution_count": 20,
     "metadata": {},
     "output_type": "execute_result"
    }
   ],
   "source": [
    "h1 = hist.Hist.new.Reg(1000, 0, 200000, name=\"Area\").Double()\n",
    "h1.fill(ak.flatten(branches_cut['area']))"
   ]
  },
  {
   "cell_type": "markdown",
   "metadata": {},
   "source": [
    "## Plotting\n",
    "\n",
    "### Hist Package\n",
    "\n",
    "The hist package is designed to quickly make plots in jupyter notebooks."
   ]
  },
  {
   "cell_type": "code",
   "execution_count": 21,
   "metadata": {},
   "outputs": [
    {
     "data": {
      "text/html": [
       "<html>\n",
       "<div style=\"display:flex; align-items:center;\">\n",
       "<div style=\"width:290px;\">\n",
       "<svg xmlns=\"http://www.w3.org/2000/svg\" viewBox=\"-10 -105 270 120\">\n",
       "<line x1=\"-5\" y1=\"0\" x2=\"255\" y2=\"0\" style=\"fill:none;stroke-width:2;stroke:currentColor\"/>\n",
       "<text text-anchor=\"middle\" x=\"0\" y=\"15\" style=\"fill:currentColor;\">\n",
       "0\n",
       "</text>\n",
       "<text text-anchor=\"middle\" x=\"250\" y=\"15\" style=\"fill:currentColor;\">\n",
       "1.3e+03\n",
       "</text>\n",
       "<text text-anchor=\"middle\" x=\"125.0\" y=\"15\" style=\"fill:currentColor;\">\n",
       "Height\n",
       "</text>\n",
       "<polyline points=\"  0,0   0,-0 1.92308,-0 1.92308,-0 3.84615,-0 3.84615,-0 5.76923,-0 5.76923,-0 7.69231,-0 7.69231,-0 9.61538,-0 9.61538,-0 11.5385,-0 11.5385,-0 13.4615,-0 13.4615,-0 15.3846,-0 15.3846,-0 17.3077,-0 17.3077,-0 19.2308,-0 19.2308,-0 21.1538,-0 21.1538,-0 23.0769,-0 23.0769,-0  25,-0  25,-0 26.9231,-0 26.9231,-0 28.8462,-0 28.8462,-0 30.7692,-0 30.7692,-0 32.6923,-0 32.6923,-0 34.6154,-0 34.6154,-0 36.5385,-0 36.5385,-0 38.4615,-0 38.4615,-0 40.3846,-0 40.3846,-0 42.3077,-0 42.3077,-0 44.2308,-0 44.2308,-0 46.1538,-0 46.1538,-0 48.0769,-0 48.0769,-0  50,-0  50,-0 51.9231,-0 51.9231,-0 53.8462,-0 53.8462,-0 55.7692,-0 55.7692,-0 57.6923,-0 57.6923,-0 59.6154,-0 59.6154,-0 61.5385,-0 61.5385,-0 63.4615,-0 63.4615,-0 65.3846,-0 65.3846,-0 67.3077,-0 67.3077,-0 69.2308,-0 69.2308,-0 71.1538,-0 71.1538,-0 73.0769,-0 73.0769,-0  75,-0  75,-0 76.9231,-0 76.9231,-0 78.8462,-0 78.8462,-0 80.7692,-0 80.7692,-0 82.6923,-0 82.6923,-0 84.6154,-0 84.6154,-0 86.5385,-0 86.5385,-0 88.4615,-0 88.4615,-0 90.3846,-0 90.3846,-0 92.3077,-0 92.3077,-0 94.2308,-0 94.2308,-0 96.1538,-0 96.1538,-3.02 98.0769,-3.02 98.0769,-2.84 100,-2.84 100,-2.8 101.923,-2.8 101.923,-2.8 103.846,-2.8 103.846,-2.55 105.769,-2.55 105.769,-2.64 107.692,-2.64 107.692,-2.47 109.615,-2.47 109.615,-2.39 111.538,-2.39 111.538,-2.38 113.462,-2.38 113.462,-2.38 115.385,-2.38 115.385,-2.26 117.308,-2.26 117.308,-2.31 119.231,-2.31 119.231,-2.12 121.154,-2.12 121.154,-2.1 123.077,-2.1 123.077,-2.12 125,-2.12 125,-1.95 126.923,-1.95 126.923,-1.91 128.846,-1.91 128.846,-2 130.769,-2 130.769,-1.96 132.692,-1.96 132.692,-2.27 134.615,-2.27 134.615,-2.6 136.538,-2.6 136.538,-2.45 138.462,-2.45 138.462,-2.42 140.385,-2.42 140.385,-2.42 142.308,-2.42 142.308,-2.27 144.231,-2.27 144.231,-2.29 146.154,-2.29 146.154,-2.16 148.077,-2.16 148.077,-2.07 150,-2.07 150,-2.23 151.923,-2.23 151.923,-2.03 153.846,-2.03 153.846,-2.05 155.769,-2.05 155.769,-1.94 157.692,-1.94 157.692,-2 159.615,-2 159.615,-1.99 161.538,-1.99 161.538,-1.85 163.462,-1.85 163.462,-1.85 165.385,-1.85 165.385,-1.86 167.308,-1.86 167.308,-1.83 169.231,-1.83 169.231,-1.76 171.154,-1.76 171.154,-1.77 173.077,-1.77 173.077,-1.66 175,-1.66 175,-1.75 176.923,-1.75 176.923,-1.66 178.846,-1.66 178.846,-1.67 180.769,-1.67 180.769,-1.5 182.692,-1.5 182.692,-1.56 184.615,-1.56 184.615,-1.53 186.538,-1.53 186.538,-1.57 188.462,-1.57 188.462,-1.4 190.385,-1.4 190.385,-1.45 192.308,-1.45 192.308,-1.42 194.231,-1.42 194.231,-1.48 196.154,-1.48 196.154,-1.5 198.077,-1.5 198.077,-1.47 200,-1.47 200,-1.5 201.923,-1.5 201.923,-2.9 203.846,-2.9 203.846,-10.1 205.769,-10.1 205.769,-17.2 207.692,-17.2 207.692,-10.1 209.615,-10.1 209.615,-1.68 211.538,-1.68 211.538,-1.21 213.462,-1.21 213.462,-1.13 215.385,-1.13 215.385,-1.11 217.308,-1.11 217.308,-1.06 219.231,-1.06 219.231,-1.08 221.154,-1.08 221.154,-0.976 223.077,-0.976 223.077,-1 225,-1 225,-1.01 226.923,-1.01 226.923,-0.914 228.846,-0.914 228.846,-0.864 230.769,-0.864 230.769,-0.868 232.692,-0.868 232.692,-0.925 234.615,-0.925 234.615,-0.855 236.538,-0.855 236.538,-0.894 238.462,-0.894 238.462,-100 240.385,-100 240.385,-36.1 242.308,-36.1 242.308,-1.87 244.231,-1.87 244.231,-0.972 246.154,-0.972 246.154,-0.642 248.077,-0.642 248.077,-0.411 250,-0.411 250,0\" style=\"fill:none; stroke:currentColor;\"/>\n",
       "</svg>\n",
       "</div>\n",
       "<div style=\"flex=grow:1;\">\n",
       "Regular(130, 0, 1300, name='Height')<br/>\n",
       "<hr style=\"margin-top:.2em; margin-bottom:.2em;\"/>\n",
       "Double() Σ=167984.0 <em>(168611.0 with flow)</em>\n",
       "\n",
       "</div>\n",
       "</div>\n",
       "</html>"
      ],
      "text/plain": [
       "Hist(Regular(130, 0, 1300, name='Height'), storage=Double()) # Sum: 167984.0 (168611.0 with flow)"
      ]
     },
     "execution_count": 21,
     "metadata": {},
     "output_type": "execute_result"
    }
   ],
   "source": [
    "#Define a histogram\n",
    "h1 = hist.Hist.new.Reg(130, 0, 1300, name=\"Height\").Double()\n",
    "h1.fill(ak.flatten(branches['height']))"
   ]
  },
  {
   "cell_type": "markdown",
   "metadata": {},
   "source": [
    "### MatPlotlib\n",
    "\n",
    "We can also use matplotlib plots to take advantage of python tools for plotting."
   ]
  },
  {
   "cell_type": "code",
   "execution_count": 22,
   "metadata": {},
   "outputs": [
    {
     "data": {
      "image/png": "[encoded data removed]",
      "text/plain": [
       "<Figure size 640x480 with 1 Axes>"
      ]
     },
     "metadata": {},
     "output_type": "display_data"
    }
   ],
   "source": [
    "plt.hist(ak.flatten(branches['height']), bins=140, range=(0, 1400))\n",
    "plt.show()"
   ]
  },
  {
   "cell_type": "markdown",
   "metadata": {},
   "source": [
    "### Root Histograms\n",
    "\n",
    "Finally we can still use root histograms by converting our entries to array objects. This method of plotting is a bit slow but allows us to use the traditional root tools and save our histograms to root files."
   ]
  },
  {
   "cell_type": "code",
   "execution_count": 23,
   "metadata": {},
   "outputs": [
    {
     "data": {
      "image/png": "[encoded data removed]",
      "text/plain": [
       "<IPython.core.display.Image object>"
      ]
     },
     "metadata": {},
     "output_type": "display_data"
    }
   ],
   "source": [
    "#define root histogram\n",
    "h_height = r.TH1F(\"h_height\", \"Height\", 140, 0, 1400)\n",
    "\n",
    "#create array from awkward array\n",
    "heights = arr.array('d', ak.flatten(branches['height']))\n",
    "\n",
    "#fill the histogram\n",
    "#inputs are number of entries, values, and weights\n",
    "h_height.FillN(len(heights), heights, np.ones(len(heights)))\n",
    "\n",
    "#create a TCanvas to draw on\n",
    "c1 = r.TCanvas(\"c1\", \"c1\", 500, 400)\n",
    "\n",
    "c1.cd()\n",
    "h_height.Draw()\n",
    "c1.Draw()"
   ]
  },
  {
   "cell_type": "markdown",
   "metadata": {},
   "source": [
    "## Iterating Over Multiple Files\n",
    "\n",
    "The equivalent of TChains is running with uproot iterate. This is what most of the analysis framework is based on."
   ]
  },
  {
   "cell_type": "code",
   "execution_count": 25,
   "metadata": {},
   "outputs": [
    {
     "name": "stdout",
     "output_type": "stream",
     "text": [
      "128706 events passing cuts out of 206465 total\n"
     ]
    },
    {
     "name": "stderr",
     "output_type": "stream",
     "text": [
      "Warning in <TROOT::Append>: Replacing existing TH1: h_npulses (Potential memory leak).\n",
      "Warning in <TROOT::Append>: Replacing existing TH1: h_npulsesCut (Potential memory leak).\n",
      "Warning in <TCanvas::Constructor>: Deleting canvas with same name: c1\n"
     ]
    }
   ],
   "source": [
    "#define total events \n",
    "totalEvents = 0 #count total events\n",
    "passingEvents = 0 #count events passing cuts\n",
    "\n",
    "#define histograms\n",
    "h_npulses = r.TH1F(\"h_npulses\", \"Number of Pulses\", 50, 0, 50)\n",
    "h_npulsesCut = r.TH1F(\"h_npulsesCut\", \"Number of Pulses After Cuts\", 50, 0, 50)\n",
    "\n",
    "#define TCanvas for plotting\n",
    "c = r.TCanvas(\"c1\", \"c1\", 1000, 800)\n",
    "\n",
    "#use the uproot iterate method to loop over all files in our filelist\n",
    "#https://uproot.readthedocs.io/en/latest/uproot.behaviors.TBranch.iterate.html\n",
    "for events in uproot.iterate(\n",
    "\n",
    "        #list of files to run over\n",
    "        [\"MilliQan_Run1190_v34.root\"],\n",
    "\n",
    "        #branches defined above\n",
    "        [\"area\", \"height\", \"npulses\", \"chan\", \"type\"],\n",
    "\n",
    "        #if we want to make a cut we can define it here\n",
    "        #note cannot do this with jagged array (ex event and pulse level quantities)\n",
    "        cut=\"height>=0\",\n",
    "\n",
    "        #library used to load data\n",
    "        #default is awkward array (ak), can also use pandas (pd) or numpy (np)\n",
    "        library = 'ak',\n",
    "\n",
    "        #number of events or size per batch\n",
    "        step_size=1000,\n",
    "\n",
    "        #number of processors\n",
    "        num_workers=8\n",
    "    \n",
    "    ):\n",
    "\n",
    "        totalEvents += len(events)\n",
    "            \n",
    "        #next we can make some cuts on the data\n",
    "        #ex veto events with hits in top panels\n",
    "        panel_cut1 = ak.any(events[:, 'chan'] == 68, axis=1) #check if any pulse in event is channel 68 (front top), axis=1 to check for any in event\n",
    "        panel_cut2 = ak.any(events[:, 'chan'] == 69, axis=1) #back top panel\n",
    "        \n",
    "        passing = events[~panel_cut1 & ~panel_cut2]\n",
    "        passingEvents += len(passing)\n",
    "\n",
    "        npulses_pre = ak.count(events['npulses'], axis=1) #count number of pulses in events, note cannot use npulses because some events have empty arrays due to cuts\n",
    "        npulses_post = ak.count(passing['npulses'], axis=1) #count number of pulses after panel cut\n",
    "\n",
    "        #turn awkward arrays into arrays\n",
    "        npulses_pre = arr.array('d', npulses_pre.to_list())\n",
    "        npulses_post = arr.array('d', npulses_post.to_list())\n",
    "\n",
    "        #fill histograms\n",
    "        if len(npulses_pre) > 0: h_npulses.FillN(len(npulses_pre), npulses_pre, np.ones(len(npulses_pre)))\n",
    "        if len(npulses_post) > 0: h_npulsesCut.FillN(len(npulses_post), npulses_post, np.ones(len(npulses_post)))\n",
    "\n",
    "print(\"{0} events passing cuts out of {1} total\".format(passingEvents, totalEvents))\n",
    "        \n",
    " \n"
   ]
  },
  {
   "cell_type": "markdown",
   "metadata": {},
   "source": [
    "Make plot showing the number of pulses before and after cutting on top pannels."
   ]
  },
  {
   "cell_type": "code",
   "execution_count": 26,
   "metadata": {},
   "outputs": [
    {
     "data": {
      "image/png": "[encoded data removed]",
      "text/plain": [
       "<IPython.core.display.Image object>"
      ]
     },
     "metadata": {},
     "output_type": "display_data"
    }
   ],
   "source": [
    "c.cd()\n",
    "\n",
    "r.gStyle.SetOptStat(0000) #remove stats box\n",
    "\n",
    "h_npulses.GetYaxis().SetTitle(\"Number of Events\")\n",
    "h_npulses.GetXaxis().SetTitle(\"Number of Pulses\")\n",
    "h_npulses.SetFillColorAlpha(4, 0.3)\n",
    "h_npulses.Draw()\n",
    "h_npulsesCut.SetLineColor(2)\n",
    "h_npulsesCut.SetFillColorAlpha(2, 0.3)\n",
    "h_npulsesCut.Draw(\"same\")\n",
    "\n",
    "l1 = r.TLegend(0.5, 0.6, 0.8, 0.7)\n",
    "l1.AddEntry(h_npulses)\n",
    "l1.AddEntry(h_npulsesCut)\n",
    "l1.Draw()\n",
    "\n",
    "c.Draw()"
   ]
  },
  {
   "cell_type": "markdown",
   "metadata": {},
   "source": [
    "## MilliQan Processor"
   ]
  },
  {
   "cell_type": "code",
   "execution_count": 3,
   "metadata": {},
   "outputs": [],
   "source": [
    "from milliqanProcessor import *"
   ]
  },
  {
   "cell_type": "markdown",
   "metadata": {},
   "source": [
    "### MilliQan Cuts"
   ]
  }
 ],
 "metadata": {
  "kernelspec": {
   "display_name": "base",
   "language": "python",
   "name": "python3"
  },
  "language_info": {
   "codemirror_mode": {
    "name": "ipython",
    "version": 3
   },
   "file_extension": ".py",
   "mimetype": "text/x-python",
   "name": "python",
   "nbconvert_exporter": "python",
   "pygments_lexer": "ipython3",
   "version": "3.10.12"
  }
 },
 "nbformat": 4,
 "nbformat_minor": 2
}
